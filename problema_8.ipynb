{
  "nbformat": 4,
  "nbformat_minor": 0,
  "metadata": {
    "colab": {
      "name": "problema_8.ipynb",
      "provenance": [],
      "authorship_tag": "ABX9TyO7ZIGbJdL88n6rOgCGaTwo",
      "include_colab_link": true
    },
    "kernelspec": {
      "name": "python3",
      "display_name": "Python 3"
    }
  },
  "cells": [
    {
      "cell_type": "markdown",
      "metadata": {
        "id": "view-in-github",
        "colab_type": "text"
      },
      "source": [
        "<a href=\"https://colab.research.google.com/github/OsmarValenzuelaMendoza/1er_laboratorio/blob/master/problema_8.ipynb\" target=\"_parent\"><img src=\"https://colab.research.google.com/assets/colab-badge.svg\" alt=\"Open In Colab\"/></a>"
      ]
    },
    {
      "cell_type": "code",
      "metadata": {
        "id": "HcOdaifDtko1",
        "colab_type": "code",
        "colab": {}
      },
      "source": [
        "import pandas as pd\n",
        "import numpy as np\n",
        "from datetime import datetime"
      ],
      "execution_count": 1,
      "outputs": []
    },
    {
      "cell_type": "code",
      "metadata": {
        "id": "vLKKcvA_0AF_",
        "colab_type": "code",
        "colab": {
          "base_uri": "https://localhost:8080/",
          "height": 173
        },
        "outputId": "fd5f690a-6bda-4321-d994-5acec8019736"
      },
      "source": [
        "boletos = pd.DataFrame({'Tipo': ['A', 'B', 'C', 'D'],  'Costo': [40,30,25,22]})\n",
        "boletos"
      ],
      "execution_count": 2,
      "outputs": [
        {
          "output_type": "execute_result",
          "data": {
            "text/html": [
              "<div>\n",
              "<style scoped>\n",
              "    .dataframe tbody tr th:only-of-type {\n",
              "        vertical-align: middle;\n",
              "    }\n",
              "\n",
              "    .dataframe tbody tr th {\n",
              "        vertical-align: top;\n",
              "    }\n",
              "\n",
              "    .dataframe thead th {\n",
              "        text-align: right;\n",
              "    }\n",
              "</style>\n",
              "<table border=\"1\" class=\"dataframe\">\n",
              "  <thead>\n",
              "    <tr style=\"text-align: right;\">\n",
              "      <th></th>\n",
              "      <th>Tipo</th>\n",
              "      <th>Costo</th>\n",
              "    </tr>\n",
              "  </thead>\n",
              "  <tbody>\n",
              "    <tr>\n",
              "      <th>0</th>\n",
              "      <td>A</td>\n",
              "      <td>40</td>\n",
              "    </tr>\n",
              "    <tr>\n",
              "      <th>1</th>\n",
              "      <td>B</td>\n",
              "      <td>30</td>\n",
              "    </tr>\n",
              "    <tr>\n",
              "      <th>2</th>\n",
              "      <td>C</td>\n",
              "      <td>25</td>\n",
              "    </tr>\n",
              "    <tr>\n",
              "      <th>3</th>\n",
              "      <td>D</td>\n",
              "      <td>22</td>\n",
              "    </tr>\n",
              "  </tbody>\n",
              "</table>\n",
              "</div>"
            ],
            "text/plain": [
              "  Tipo  Costo\n",
              "0    A     40\n",
              "1    B     30\n",
              "2    C     25\n",
              "3    D     22"
            ]
          },
          "metadata": {
            "tags": []
          },
          "execution_count": 2
        }
      ]
    },
    {
      "cell_type": "code",
      "metadata": {
        "id": "wldAN1LI0TzH",
        "colab_type": "code",
        "colab": {}
      },
      "source": [
        "vendedores = pd.DataFrame( \n",
        "    columns = [\n",
        "               'TipoVendedor',\n",
        "               'Cantidad Boletos', \n",
        "               'Tipo Boleto',\n",
        "               'Total recaudado','Ganancia del vendedor'\n",
        "               ] )"
      ],
      "execution_count": 3,
      "outputs": []
    },
    {
      "cell_type": "code",
      "metadata": {
        "id": "6YttG22D2fOr",
        "colab_type": "code",
        "colab": {
          "base_uri": "https://localhost:8080/",
          "height": 85
        },
        "outputId": "5c267718-9c9b-497e-e718-6d485546c209"
      },
      "source": [
        "today = datetime.now()\n",
        "print('Hora : ', today)\n",
        "print('--- Buenos dias ---')\n",
        "print('Los boletos que pueden ser vendidos son : A, B, C y D.')\n",
        "cantidad_vendedores  = input('Ingrese la cantidad de vendedores : ')\n",
        "\n",
        "def Ingreso():\n",
        "    i = 0\n",
        "    while  True :\n",
        "        print('Ahora registre las ventas de cada vendedor: ')\n",
        "        print()\n",
        "\n",
        "\n",
        "        tipo  = input('Número de vendedor: ')\n",
        "        cantidad = input('Cantidad de boletos vendidos: ')\n",
        "        boleto = input('Tipo de boleto: ')\n",
        "\n",
        "        cantidad = int(cantidad)\n",
        "        if boleto  == 'A'  :\n",
        "            total = cantidad*40\n",
        "            recaudacion = total * 0.02 \n",
        "        elif boleto == 'B':\n",
        "            total = cantidad *30\n",
        "            recaudacion = total * 0.03\n",
        "        elif boleto == 'C':\n",
        "            total = cantidad *25 \n",
        "            recaudacion = total * 0.04\n",
        "        elif boleto == 'D':\n",
        "            total = cantidad *22\n",
        "            recaudacion = total * 0.05\n",
        "\n",
        "        vendedores.loc[i]= [tipo, cantidad, boleto, total, recaudacion]\n",
        "        \n",
        "        print()\n",
        "        seguir = input('DESEA SEGUIR INGRESANDO DATOS(S/N): ')\n",
        "        seguir = seguir.upper()\n",
        "        i = i+1\n",
        "        if seguir != 'S' :\n",
        "                break"
      ],
      "execution_count": 4,
      "outputs": [
        {
          "output_type": "stream",
          "text": [
            "Hora :  2020-07-09 18:49:07.049376\n",
            "--- Buenos dias ---\n",
            "Los boletos que pueden ser vendidos son : A, B, C y D.\n",
            "Ingrese la cantidad de vendedores : 3\n"
          ],
          "name": "stdout"
        }
      ]
    },
    {
      "cell_type": "code",
      "metadata": {
        "id": "_V94FZkR6K5i",
        "colab_type": "code",
        "colab": {
          "base_uri": "https://localhost:8080/",
          "height": 731
        },
        "outputId": "a7805078-78ee-46d8-d19d-bce8bf138384"
      },
      "source": [
        "Ingreso()"
      ],
      "execution_count": 6,
      "outputs": [
        {
          "output_type": "stream",
          "text": [
            "Ahora registre las ventas de cada vendedor: \n",
            "\n",
            "Número de vendedor: 1\n",
            "Cantidad de boletos vendidos: 2\n",
            "Tipo de boleto: A\n",
            "\n",
            "DESEA SEGUIR INGRESANDO DATOS(S/N): S\n",
            "Ahora registre las ventas de cada vendedor: \n",
            "\n",
            "Número de vendedor: 1\n",
            "Cantidad de boletos vendidos: 3\n",
            "Tipo de boleto: B\n",
            "\n",
            "DESEA SEGUIR INGRESANDO DATOS(S/N): S\n",
            "Ahora registre las ventas de cada vendedor: \n",
            "\n",
            "Número de vendedor: 2\n",
            "Cantidad de boletos vendidos: 2\n",
            "Tipo de boleto: A\n",
            "\n",
            "DESEA SEGUIR INGRESANDO DATOS(S/N): S\n",
            "Ahora registre las ventas de cada vendedor: \n",
            "\n",
            "Número de vendedor: 2\n",
            "Cantidad de boletos vendidos: 3\n",
            "Tipo de boleto: C\n",
            "\n",
            "DESEA SEGUIR INGRESANDO DATOS(S/N): S\n",
            "Ahora registre las ventas de cada vendedor: \n",
            "\n",
            "Número de vendedor: 3\n",
            "Cantidad de boletos vendidos: 2\n",
            "Tipo de boleto: A\n",
            "\n",
            "DESEA SEGUIR INGRESANDO DATOS(S/N): S\n",
            "Ahora registre las ventas de cada vendedor: \n",
            "\n",
            "Número de vendedor: 3\n",
            "Cantidad de boletos vendidos: 4\n",
            "Tipo de boleto: D\n",
            "\n",
            "DESEA SEGUIR INGRESANDO DATOS(S/N): N\n"
          ],
          "name": "stdout"
        }
      ]
    },
    {
      "cell_type": "code",
      "metadata": {
        "id": "HHzyHfM8-hBR",
        "colab_type": "code",
        "colab": {
          "base_uri": "https://localhost:8080/",
          "height": 235
        },
        "outputId": "d0e8dae4-33c6-46be-91aa-1d4e5325828c"
      },
      "source": [
        "vendedores"
      ],
      "execution_count": 9,
      "outputs": [
        {
          "output_type": "execute_result",
          "data": {
            "text/html": [
              "<div>\n",
              "<style scoped>\n",
              "    .dataframe tbody tr th:only-of-type {\n",
              "        vertical-align: middle;\n",
              "    }\n",
              "\n",
              "    .dataframe tbody tr th {\n",
              "        vertical-align: top;\n",
              "    }\n",
              "\n",
              "    .dataframe thead th {\n",
              "        text-align: right;\n",
              "    }\n",
              "</style>\n",
              "<table border=\"1\" class=\"dataframe\">\n",
              "  <thead>\n",
              "    <tr style=\"text-align: right;\">\n",
              "      <th></th>\n",
              "      <th>TipoVendedor</th>\n",
              "      <th>Cantidad Boletos</th>\n",
              "      <th>Tipo Boleto</th>\n",
              "      <th>Total recaudado</th>\n",
              "      <th>Ganancia del vendedor</th>\n",
              "    </tr>\n",
              "  </thead>\n",
              "  <tbody>\n",
              "    <tr>\n",
              "      <th>0</th>\n",
              "      <td>1</td>\n",
              "      <td>2</td>\n",
              "      <td>A</td>\n",
              "      <td>80</td>\n",
              "      <td>1.6</td>\n",
              "    </tr>\n",
              "    <tr>\n",
              "      <th>1</th>\n",
              "      <td>1</td>\n",
              "      <td>3</td>\n",
              "      <td>B</td>\n",
              "      <td>90</td>\n",
              "      <td>2.7</td>\n",
              "    </tr>\n",
              "    <tr>\n",
              "      <th>2</th>\n",
              "      <td>2</td>\n",
              "      <td>2</td>\n",
              "      <td>A</td>\n",
              "      <td>80</td>\n",
              "      <td>1.6</td>\n",
              "    </tr>\n",
              "    <tr>\n",
              "      <th>3</th>\n",
              "      <td>2</td>\n",
              "      <td>3</td>\n",
              "      <td>C</td>\n",
              "      <td>75</td>\n",
              "      <td>3.0</td>\n",
              "    </tr>\n",
              "    <tr>\n",
              "      <th>4</th>\n",
              "      <td>3</td>\n",
              "      <td>2</td>\n",
              "      <td>A</td>\n",
              "      <td>80</td>\n",
              "      <td>1.6</td>\n",
              "    </tr>\n",
              "    <tr>\n",
              "      <th>5</th>\n",
              "      <td>3</td>\n",
              "      <td>4</td>\n",
              "      <td>D</td>\n",
              "      <td>88</td>\n",
              "      <td>4.4</td>\n",
              "    </tr>\n",
              "  </tbody>\n",
              "</table>\n",
              "</div>"
            ],
            "text/plain": [
              "  TipoVendedor Cantidad Boletos  ... Total recaudado Ganancia del vendedor\n",
              "0            1                2  ...              80                   1.6\n",
              "1            1                3  ...              90                   2.7\n",
              "2            2                2  ...              80                   1.6\n",
              "3            2                3  ...              75                   3.0\n",
              "4            3                2  ...              80                   1.6\n",
              "5            3                4  ...              88                   4.4\n",
              "\n",
              "[6 rows x 5 columns]"
            ]
          },
          "metadata": {
            "tags": []
          },
          "execution_count": 9
        }
      ]
    },
    {
      "cell_type": "code",
      "metadata": {
        "id": "k8uDDPTA_aJa",
        "colab_type": "code",
        "colab": {}
      },
      "source": [
        "def primero():\n",
        "    primero = vendedores.groupby('Tipo Boleto')['Cantidad Boletos','Total recaudado'].sum().reset_index()\n",
        "    primero = pd.DataFrame(primero)\n",
        "    return primero"
      ],
      "execution_count": 7,
      "outputs": []
    },
    {
      "cell_type": "code",
      "metadata": {
        "id": "QldkmuHW5LYJ",
        "colab_type": "code",
        "colab": {
          "base_uri": "https://localhost:8080/",
          "height": 207
        },
        "outputId": "fcfdf36e-202a-4db4-c1ae-f5b0e982af8e"
      },
      "source": [
        "primero()"
      ],
      "execution_count": 8,
      "outputs": [
        {
          "output_type": "stream",
          "text": [
            "/usr/local/lib/python3.6/dist-packages/ipykernel_launcher.py:2: FutureWarning: Indexing with multiple keys (implicitly converted to a tuple of keys) will be deprecated, use a list instead.\n",
            "  \n"
          ],
          "name": "stderr"
        },
        {
          "output_type": "execute_result",
          "data": {
            "text/html": [
              "<div>\n",
              "<style scoped>\n",
              "    .dataframe tbody tr th:only-of-type {\n",
              "        vertical-align: middle;\n",
              "    }\n",
              "\n",
              "    .dataframe tbody tr th {\n",
              "        vertical-align: top;\n",
              "    }\n",
              "\n",
              "    .dataframe thead th {\n",
              "        text-align: right;\n",
              "    }\n",
              "</style>\n",
              "<table border=\"1\" class=\"dataframe\">\n",
              "  <thead>\n",
              "    <tr style=\"text-align: right;\">\n",
              "      <th></th>\n",
              "      <th>Tipo Boleto</th>\n",
              "      <th>Cantidad Boletos</th>\n",
              "      <th>Total recaudado</th>\n",
              "    </tr>\n",
              "  </thead>\n",
              "  <tbody>\n",
              "    <tr>\n",
              "      <th>0</th>\n",
              "      <td>A</td>\n",
              "      <td>6</td>\n",
              "      <td>240</td>\n",
              "    </tr>\n",
              "    <tr>\n",
              "      <th>1</th>\n",
              "      <td>B</td>\n",
              "      <td>3</td>\n",
              "      <td>90</td>\n",
              "    </tr>\n",
              "    <tr>\n",
              "      <th>2</th>\n",
              "      <td>C</td>\n",
              "      <td>3</td>\n",
              "      <td>75</td>\n",
              "    </tr>\n",
              "    <tr>\n",
              "      <th>3</th>\n",
              "      <td>D</td>\n",
              "      <td>4</td>\n",
              "      <td>88</td>\n",
              "    </tr>\n",
              "  </tbody>\n",
              "</table>\n",
              "</div>"
            ],
            "text/plain": [
              "  Tipo Boleto  Cantidad Boletos  Total recaudado\n",
              "0           A                 6              240\n",
              "1           B                 3               90\n",
              "2           C                 3               75\n",
              "3           D                 4               88"
            ]
          },
          "metadata": {
            "tags": []
          },
          "execution_count": 8
        }
      ]
    },
    {
      "cell_type": "code",
      "metadata": {
        "id": "oI9SA6O7A7OM",
        "colab_type": "code",
        "colab": {}
      },
      "source": [
        "def segundo():\n",
        "    segundo = vendedores.groupby('TipoVendedor')['Cantidad Boletos'].sum().reset_index()\n",
        "    segundo = pd.DataFrame(segundo)\n",
        "    return segundo"
      ],
      "execution_count": 10,
      "outputs": []
    },
    {
      "cell_type": "code",
      "metadata": {
        "id": "c-2GSOvf-srm",
        "colab_type": "code",
        "colab": {
          "base_uri": "https://localhost:8080/",
          "height": 142
        },
        "outputId": "dae800a3-e0b8-41a8-bd64-49ad444bd64c"
      },
      "source": [
        "segundo()"
      ],
      "execution_count": 11,
      "outputs": [
        {
          "output_type": "execute_result",
          "data": {
            "text/html": [
              "<div>\n",
              "<style scoped>\n",
              "    .dataframe tbody tr th:only-of-type {\n",
              "        vertical-align: middle;\n",
              "    }\n",
              "\n",
              "    .dataframe tbody tr th {\n",
              "        vertical-align: top;\n",
              "    }\n",
              "\n",
              "    .dataframe thead th {\n",
              "        text-align: right;\n",
              "    }\n",
              "</style>\n",
              "<table border=\"1\" class=\"dataframe\">\n",
              "  <thead>\n",
              "    <tr style=\"text-align: right;\">\n",
              "      <th></th>\n",
              "      <th>TipoVendedor</th>\n",
              "      <th>Cantidad Boletos</th>\n",
              "    </tr>\n",
              "  </thead>\n",
              "  <tbody>\n",
              "    <tr>\n",
              "      <th>0</th>\n",
              "      <td>1</td>\n",
              "      <td>5</td>\n",
              "    </tr>\n",
              "    <tr>\n",
              "      <th>1</th>\n",
              "      <td>2</td>\n",
              "      <td>5</td>\n",
              "    </tr>\n",
              "    <tr>\n",
              "      <th>2</th>\n",
              "      <td>3</td>\n",
              "      <td>6</td>\n",
              "    </tr>\n",
              "  </tbody>\n",
              "</table>\n",
              "</div>"
            ],
            "text/plain": [
              "  TipoVendedor  Cantidad Boletos\n",
              "0            1                 5\n",
              "1            2                 5\n",
              "2            3                 6"
            ]
          },
          "metadata": {
            "tags": []
          },
          "execution_count": 11
        }
      ]
    },
    {
      "cell_type": "code",
      "metadata": {
        "id": "8Tar92KmCMFg",
        "colab_type": "code",
        "colab": {}
      },
      "source": [
        "def tercero():\n",
        "    tercero = vendedores.groupby('TipoVendedor')['Ganancia del vendedor'].sum().reset_index()\n",
        "    tercero_2 = vendedores.groupby('TipoVendedor')['Total recaudado'].sum().reset_index()\n",
        "    tercero = pd.DataFrame(tercero)\n",
        "    tercero['Total recaudado'] = tercero_2['Total recaudado']\n",
        "    return tercero"
      ],
      "execution_count": 12,
      "outputs": []
    },
    {
      "cell_type": "code",
      "metadata": {
        "id": "R2UcXSJu-xYe",
        "colab_type": "code",
        "colab": {
          "base_uri": "https://localhost:8080/",
          "height": 142
        },
        "outputId": "a0702ca1-da4c-4c2e-dc7f-5bd679ca6ded"
      },
      "source": [
        "tercero()"
      ],
      "execution_count": 13,
      "outputs": [
        {
          "output_type": "execute_result",
          "data": {
            "text/html": [
              "<div>\n",
              "<style scoped>\n",
              "    .dataframe tbody tr th:only-of-type {\n",
              "        vertical-align: middle;\n",
              "    }\n",
              "\n",
              "    .dataframe tbody tr th {\n",
              "        vertical-align: top;\n",
              "    }\n",
              "\n",
              "    .dataframe thead th {\n",
              "        text-align: right;\n",
              "    }\n",
              "</style>\n",
              "<table border=\"1\" class=\"dataframe\">\n",
              "  <thead>\n",
              "    <tr style=\"text-align: right;\">\n",
              "      <th></th>\n",
              "      <th>TipoVendedor</th>\n",
              "      <th>Ganancia del vendedor</th>\n",
              "      <th>Total recaudado</th>\n",
              "    </tr>\n",
              "  </thead>\n",
              "  <tbody>\n",
              "    <tr>\n",
              "      <th>0</th>\n",
              "      <td>1</td>\n",
              "      <td>4.3</td>\n",
              "      <td>170</td>\n",
              "    </tr>\n",
              "    <tr>\n",
              "      <th>1</th>\n",
              "      <td>2</td>\n",
              "      <td>4.6</td>\n",
              "      <td>155</td>\n",
              "    </tr>\n",
              "    <tr>\n",
              "      <th>2</th>\n",
              "      <td>3</td>\n",
              "      <td>6.0</td>\n",
              "      <td>168</td>\n",
              "    </tr>\n",
              "  </tbody>\n",
              "</table>\n",
              "</div>"
            ],
            "text/plain": [
              "  TipoVendedor  Ganancia del vendedor  Total recaudado\n",
              "0            1                    4.3              170\n",
              "1            2                    4.6              155\n",
              "2            3                    6.0              168"
            ]
          },
          "metadata": {
            "tags": []
          },
          "execution_count": 13
        }
      ]
    },
    {
      "cell_type": "code",
      "metadata": {
        "id": "Sj-eAYoICngC",
        "colab_type": "code",
        "colab": {}
      },
      "source": [
        "def cuarto():\n",
        "    cuarto = vendedores.groupby('TipoVendedor')['Ganancia del vendedor'].sum().reset_index()\n",
        "    cuarto = pd.DataFrame(cuarto)\n",
        "    cuarto_2 = vendedores.groupby('TipoVendedor')['Total recaudado'].sum().reset_index()\n",
        "    cuarto['Total recaudado'] = cuarto_2['Total recaudado']\n",
        "    cuarto['Porcentaje ganancia'] = cuarto['Ganancia del vendedor'] / cuarto['Total recaudado'] \n",
        "    cuarto = cuarto.drop(['Ganancia del vendedor', 'Total recaudado'], axis = 1)\n",
        "    \n",
        "    return cuarto"
      ],
      "execution_count": 16,
      "outputs": []
    },
    {
      "cell_type": "code",
      "metadata": {
        "id": "MsSBCl8Y-4VH",
        "colab_type": "code",
        "colab": {
          "base_uri": "https://localhost:8080/",
          "height": 142
        },
        "outputId": "2de31ed5-6bda-4dbf-dd42-38cfd4ce4ae8"
      },
      "source": [
        "cuarto()"
      ],
      "execution_count": 17,
      "outputs": [
        {
          "output_type": "execute_result",
          "data": {
            "text/html": [
              "<div>\n",
              "<style scoped>\n",
              "    .dataframe tbody tr th:only-of-type {\n",
              "        vertical-align: middle;\n",
              "    }\n",
              "\n",
              "    .dataframe tbody tr th {\n",
              "        vertical-align: top;\n",
              "    }\n",
              "\n",
              "    .dataframe thead th {\n",
              "        text-align: right;\n",
              "    }\n",
              "</style>\n",
              "<table border=\"1\" class=\"dataframe\">\n",
              "  <thead>\n",
              "    <tr style=\"text-align: right;\">\n",
              "      <th></th>\n",
              "      <th>TipoVendedor</th>\n",
              "      <th>Porcentaje ganancia</th>\n",
              "    </tr>\n",
              "  </thead>\n",
              "  <tbody>\n",
              "    <tr>\n",
              "      <th>0</th>\n",
              "      <td>1</td>\n",
              "      <td>0.025294</td>\n",
              "    </tr>\n",
              "    <tr>\n",
              "      <th>1</th>\n",
              "      <td>2</td>\n",
              "      <td>0.029677</td>\n",
              "    </tr>\n",
              "    <tr>\n",
              "      <th>2</th>\n",
              "      <td>3</td>\n",
              "      <td>0.035714</td>\n",
              "    </tr>\n",
              "  </tbody>\n",
              "</table>\n",
              "</div>"
            ],
            "text/plain": [
              "  TipoVendedor  Porcentaje ganancia\n",
              "0            1             0.025294\n",
              "1            2             0.029677\n",
              "2            3             0.035714"
            ]
          },
          "metadata": {
            "tags": []
          },
          "execution_count": 17
        }
      ]
    },
    {
      "cell_type": "code",
      "metadata": {
        "id": "iT-h-eGNELoT",
        "colab_type": "code",
        "colab": {}
      },
      "source": [
        "def quinto():\n",
        "    quinto = vendedores.groupby(['TipoVendedor', 'Tipo Boleto'])['Cantidad Boletos'].sum().reset_index()\n",
        "    quinto = pd.DataFrame(quinto)\n",
        "    return quinto\n",
        "    indice = np.where(  quinto['Cantidad Boletos'] ==  quinto['Cantidad Boletos'].max())[0][0]\n",
        "\n",
        "    max_vendedor = quinto['TipoVendedor'][indice]\n",
        "    tipo_boleto_max = quinto['Tipo Boleto'][indice]\n",
        "    cantidad_boletos_max = quinto['Cantidad Boletos'][indice]\n",
        "    print()\n",
        "    print('El vendedor numero ', max_vendedor, ' vendio ', cantidad_boletos_max /\n",
        "          'boletos. Y esto es la cantidad maxima de boletos vendidos y el tipo de boleto es ' /\n",
        "          tipo_boleto_max)\n",
        "\n",
        "\n"
      ],
      "execution_count": 18,
      "outputs": []
    },
    {
      "cell_type": "code",
      "metadata": {
        "id": "G79qHqL0-_S-",
        "colab_type": "code",
        "colab": {
          "base_uri": "https://localhost:8080/",
          "height": 235
        },
        "outputId": "07d595b1-a933-4558-8ae8-a61edc67f981"
      },
      "source": [
        "quinto()"
      ],
      "execution_count": 19,
      "outputs": [
        {
          "output_type": "execute_result",
          "data": {
            "text/html": [
              "<div>\n",
              "<style scoped>\n",
              "    .dataframe tbody tr th:only-of-type {\n",
              "        vertical-align: middle;\n",
              "    }\n",
              "\n",
              "    .dataframe tbody tr th {\n",
              "        vertical-align: top;\n",
              "    }\n",
              "\n",
              "    .dataframe thead th {\n",
              "        text-align: right;\n",
              "    }\n",
              "</style>\n",
              "<table border=\"1\" class=\"dataframe\">\n",
              "  <thead>\n",
              "    <tr style=\"text-align: right;\">\n",
              "      <th></th>\n",
              "      <th>TipoVendedor</th>\n",
              "      <th>Tipo Boleto</th>\n",
              "      <th>Cantidad Boletos</th>\n",
              "    </tr>\n",
              "  </thead>\n",
              "  <tbody>\n",
              "    <tr>\n",
              "      <th>0</th>\n",
              "      <td>1</td>\n",
              "      <td>A</td>\n",
              "      <td>2</td>\n",
              "    </tr>\n",
              "    <tr>\n",
              "      <th>1</th>\n",
              "      <td>1</td>\n",
              "      <td>B</td>\n",
              "      <td>3</td>\n",
              "    </tr>\n",
              "    <tr>\n",
              "      <th>2</th>\n",
              "      <td>2</td>\n",
              "      <td>A</td>\n",
              "      <td>2</td>\n",
              "    </tr>\n",
              "    <tr>\n",
              "      <th>3</th>\n",
              "      <td>2</td>\n",
              "      <td>C</td>\n",
              "      <td>3</td>\n",
              "    </tr>\n",
              "    <tr>\n",
              "      <th>4</th>\n",
              "      <td>3</td>\n",
              "      <td>A</td>\n",
              "      <td>2</td>\n",
              "    </tr>\n",
              "    <tr>\n",
              "      <th>5</th>\n",
              "      <td>3</td>\n",
              "      <td>D</td>\n",
              "      <td>4</td>\n",
              "    </tr>\n",
              "  </tbody>\n",
              "</table>\n",
              "</div>"
            ],
            "text/plain": [
              "  TipoVendedor Tipo Boleto  Cantidad Boletos\n",
              "0            1           A                 2\n",
              "1            1           B                 3\n",
              "2            2           A                 2\n",
              "3            2           C                 3\n",
              "4            3           A                 2\n",
              "5            3           D                 4"
            ]
          },
          "metadata": {
            "tags": []
          },
          "execution_count": 19
        }
      ]
    },
    {
      "cell_type": "code",
      "metadata": {
        "id": "ZrJXihtLJek2",
        "colab_type": "code",
        "colab": {}
      },
      "source": [
        "def sexto():\n",
        "    sexto = vendedores.groupby(['TipoVendedor', 'Tipo Boleto'])['Cantidad Boletos'].sum().reset_index()\n",
        "    sexto = pd.DataFrame(sexto)\n",
        "    indice = np.where(sexto['Cantidad Boletos'] ==    sexto['Cantidad Boletos'].min())[0][0]\n",
        "\n",
        "    min_vendedor = sexto['TipoVendedor'][indice]\n",
        "    tipo_boleto_min = sexto['Tipo Boleto'][indice]\n",
        "    cantidad_boletos_min = sexto['Cantidad Boletos'][indice]\n",
        "    print()\n",
        "    print('El vendedor numero ', min_vendedor, ' vendio ', cantidad_boletos_min/\n",
        "            'boleto. Y esto es la cantidad minima de boletos vendidos y el tipo de boleto es  '/\n",
        "            tipo_boleto_min)\n",
        "    \n"
      ],
      "execution_count": 20,
      "outputs": []
    },
    {
      "cell_type": "code",
      "metadata": {
        "id": "TnoVolrr_GWK",
        "colab_type": "code",
        "colab": {
          "base_uri": "https://localhost:8080/",
          "height": 51
        },
        "outputId": "b288ab0b-8ba6-4c2d-e922-da476f37dec2"
      },
      "source": [
        "sexto()"
      ],
      "execution_count": 21,
      "outputs": [
        {
          "output_type": "stream",
          "text": [
            "\n",
            "El vendedor numero  1  vendio  2 boleto. Y esto es la cantidad minima de boletos vendidos y el tipo de boleto es   A\n"
          ],
          "name": "stdout"
        }
      ]
    },
    {
      "cell_type": "code",
      "metadata": {
        "id": "Tv8Rerz5P2e1",
        "colab_type": "code",
        "colab": {}
      },
      "source": [
        "def setima():\n",
        "    indice_max = np.where(vendedores['Total recaudado'] ==   vendedores['Total recaudado'].max())[0][0]\n",
        "    indice_min = np.where( vendedores['Total recaudado'] ==  vendedores['Total recaudado'].min())[0][0]\n",
        "    print()\n",
        "    print('La maxima venta recaudada fue ', vendedores['Total recaudado'][indice_max])\n",
        "    print('La minima venta recaudada fue ', vendedores['Total recaudado'][indice_min])\n"
      ],
      "execution_count": 22,
      "outputs": []
    },
    {
      "cell_type": "code",
      "metadata": {
        "id": "qcvdwzol_Iuc",
        "colab_type": "code",
        "colab": {
          "base_uri": "https://localhost:8080/",
          "height": 68
        },
        "outputId": "f5641e30-8df9-4624-de76-4a1e70f521c8"
      },
      "source": [
        "setima()"
      ],
      "execution_count": 24,
      "outputs": [
        {
          "output_type": "stream",
          "text": [
            "\n",
            "La maxima venta recaudada fue  90\n",
            "La minima venta recaudada fue  75\n"
          ],
          "name": "stdout"
        }
      ]
    },
    {
      "cell_type": "code",
      "metadata": {
        "id": "M0eWtiPxY2w8",
        "colab_type": "code",
        "colab": {}
      },
      "source": [
        "def octava():\n",
        "    octava = vendedores.groupby('TipoVendedor')['Total recaudado'].sum().reset_index()\n",
        "    octava = pd.DataFrame(octava)\n",
        "    print()\n",
        "    octava = octava.sort_values('Total recaudado', ascending = True)\n",
        "    return octava"
      ],
      "execution_count": 27,
      "outputs": []
    },
    {
      "cell_type": "code",
      "metadata": {
        "id": "RkdmdXSl_M5l",
        "colab_type": "code",
        "colab": {
          "base_uri": "https://localhost:8080/",
          "height": 159
        },
        "outputId": "39de00bf-abcb-4cd9-929b-0e43682bcc53"
      },
      "source": [
        "octava()"
      ],
      "execution_count": 28,
      "outputs": [
        {
          "output_type": "stream",
          "text": [
            "\n"
          ],
          "name": "stdout"
        },
        {
          "output_type": "execute_result",
          "data": {
            "text/html": [
              "<div>\n",
              "<style scoped>\n",
              "    .dataframe tbody tr th:only-of-type {\n",
              "        vertical-align: middle;\n",
              "    }\n",
              "\n",
              "    .dataframe tbody tr th {\n",
              "        vertical-align: top;\n",
              "    }\n",
              "\n",
              "    .dataframe thead th {\n",
              "        text-align: right;\n",
              "    }\n",
              "</style>\n",
              "<table border=\"1\" class=\"dataframe\">\n",
              "  <thead>\n",
              "    <tr style=\"text-align: right;\">\n",
              "      <th></th>\n",
              "      <th>TipoVendedor</th>\n",
              "      <th>Total recaudado</th>\n",
              "    </tr>\n",
              "  </thead>\n",
              "  <tbody>\n",
              "    <tr>\n",
              "      <th>1</th>\n",
              "      <td>2</td>\n",
              "      <td>155</td>\n",
              "    </tr>\n",
              "    <tr>\n",
              "      <th>2</th>\n",
              "      <td>3</td>\n",
              "      <td>168</td>\n",
              "    </tr>\n",
              "    <tr>\n",
              "      <th>0</th>\n",
              "      <td>1</td>\n",
              "      <td>170</td>\n",
              "    </tr>\n",
              "  </tbody>\n",
              "</table>\n",
              "</div>"
            ],
            "text/plain": [
              "  TipoVendedor  Total recaudado\n",
              "1            2              155\n",
              "2            3              168\n",
              "0            1              170"
            ]
          },
          "metadata": {
            "tags": []
          },
          "execution_count": 28
        }
      ]
    }
  ]
}