{
  "nbformat": 4,
  "nbformat_minor": 0,
  "metadata": {
    "colab": {
      "name": "problema_8 -  Valenzuela Mendoza.ipynb",
      "provenance": [],
      "authorship_tag": "ABX9TyPqwqUYeZZ2a3w5diBOBt+w",
      "include_colab_link": true
    },
    "kernelspec": {
      "name": "python3",
      "display_name": "Python 3"
    }
  },
  "cells": [
    {
      "cell_type": "markdown",
      "metadata": {
        "id": "view-in-github",
        "colab_type": "text"
      },
      "source": [
        "<a href=\"https://colab.research.google.com/github/OsmarValenzuelaMendoza/1er_laboratorio/blob/master/problema_8_Valenzuela_Mendoza.ipynb\" target=\"_parent\"><img src=\"https://colab.research.google.com/assets/colab-badge.svg\" alt=\"Open In Colab\"/></a>"
      ]
    },
    {
      "cell_type": "code",
      "metadata": {
        "id": "HcOdaifDtko1",
        "colab_type": "code",
        "colab": {}
      },
      "source": [
        "from datetime import datetime"
      ],
      "execution_count": 1,
      "outputs": []
    },
    {
      "cell_type": "code",
      "metadata": {
        "id": "_7BkezCPUr2C",
        "colab_type": "code",
        "colab": {}
      },
      "source": [
        "tipo_vendedor = []\n",
        "cantidad_boletos = []\n",
        "tipo_boletos = []\n",
        "total_recaudado = []\n",
        "ganancia_vendedor = []\n",
        "total = []"
      ],
      "execution_count": 2,
      "outputs": []
    },
    {
      "cell_type": "code",
      "metadata": {
        "id": "6YttG22D2fOr",
        "colab_type": "code",
        "colab": {
          "base_uri": "https://localhost:8080/",
          "height": 84
        },
        "outputId": "edd2b1b6-3299-4fe0-c561-91f0235d5e87"
      },
      "source": [
        "today = datetime.now()\n",
        "print('Hora : ', today)\n",
        "print('--- Buenos dias ---')\n",
        "print('Los boletos que pueden ser vendidos son : A, B, C y D.')\n",
        "cantidad_vendedores  = int(input('Ingrese la cantidad de vendedores : '))\n",
        "\n",
        "def Ingreso():\n",
        "    i = 0\n",
        "    while  True :\n",
        "        print('Ahora registre las ventas de cada vendedor: ')\n",
        "        print()\n",
        "\n",
        "\n",
        "        tipo  = input('Número de vendedor: ')\n",
        "        cantidad = int(input('Cantidad de boletos vendidos: '))\n",
        "        boleto = input('Tipo de boleto: ')\n",
        "\n",
        "        cantidad = int(cantidad)\n",
        "        if boleto  == 'A'  :\n",
        "            total = cantidad*40\n",
        "            recaudacion = total * 0.02 \n",
        "        elif boleto == 'B':\n",
        "            total = cantidad *30\n",
        "            recaudacion = total * 0.03\n",
        "        elif boleto == 'C':\n",
        "            total = cantidad *25 \n",
        "            recaudacion = total * 0.04\n",
        "        elif boleto == 'D':\n",
        "            total = cantidad *22\n",
        "            recaudacion = total * 0.05\n",
        "\n",
        "        tipo_vendedor.append(tipo)\n",
        "        cantidad_boletos.append(cantidad)\n",
        "        tipo_boletos.append(boleto)\n",
        "        total_recaudado.append(total)\n",
        "        ganancia_vendedor.append(recaudacion)\n",
        "                \n",
        "        print()\n",
        "        seguir = input('DESEA SEGUIR INGRESANDO DATOS(S/N): ')\n",
        "        seguir = seguir.upper()\n",
        "        i = i+1\n",
        "        if seguir != 'S' :\n",
        "                break"
      ],
      "execution_count": 3,
      "outputs": [
        {
          "output_type": "stream",
          "text": [
            "Hora :  2020-07-13 22:37:37.200805\n",
            "--- Buenos dias ---\n",
            "Los boletos que pueden ser vendidos son : A, B, C y D.\n",
            "Ingrese la cantidad de vendedores : 3\n"
          ],
          "name": "stdout"
        }
      ]
    },
    {
      "cell_type": "code",
      "metadata": {
        "id": "_V94FZkR6K5i",
        "colab_type": "code",
        "colab": {
          "base_uri": "https://localhost:8080/",
          "height": 725
        },
        "outputId": "eac31b44-e85a-4097-9401-7896c10e81db"
      },
      "source": [
        "Ingreso()"
      ],
      "execution_count": 5,
      "outputs": [
        {
          "output_type": "stream",
          "text": [
            "Ahora registre las ventas de cada vendedor: \n",
            "\n",
            "Número de vendedor: 1\n",
            "Cantidad de boletos vendidos: 2\n",
            "Tipo de boleto: A\n",
            "\n",
            "DESEA SEGUIR INGRESANDO DATOS(S/N): S\n",
            "Ahora registre las ventas de cada vendedor: \n",
            "\n",
            "Número de vendedor: 1\n",
            "Cantidad de boletos vendidos: 3\n",
            "Tipo de boleto: B\n",
            "\n",
            "DESEA SEGUIR INGRESANDO DATOS(S/N): S\n",
            "Ahora registre las ventas de cada vendedor: \n",
            "\n",
            "Número de vendedor: 2\n",
            "Cantidad de boletos vendidos: 2\n",
            "Tipo de boleto: A\n",
            "\n",
            "DESEA SEGUIR INGRESANDO DATOS(S/N): S\n",
            "Ahora registre las ventas de cada vendedor: \n",
            "\n",
            "Número de vendedor: 2\n",
            "Cantidad de boletos vendidos: 3\n",
            "Tipo de boleto: C\n",
            "\n",
            "DESEA SEGUIR INGRESANDO DATOS(S/N): S\n",
            "Ahora registre las ventas de cada vendedor: \n",
            "\n",
            "Número de vendedor: 3\n",
            "Cantidad de boletos vendidos: 2\n",
            "Tipo de boleto: A\n",
            "\n",
            "DESEA SEGUIR INGRESANDO DATOS(S/N): S\n",
            "Ahora registre las ventas de cada vendedor: \n",
            "\n",
            "Número de vendedor: 3\n",
            "Cantidad de boletos vendidos: 4\n",
            "Tipo de boleto: D\n",
            "\n",
            "DESEA SEGUIR INGRESANDO DATOS(S/N): N\n"
          ],
          "name": "stdout"
        }
      ]
    },
    {
      "cell_type": "code",
      "metadata": {
        "id": "GIEz0Ok6XnVI",
        "colab_type": "code",
        "colab": {}
      },
      "source": [
        "total = [['TIPO VENDEDOR', 'CANTIDAD BOLETOS', 'TIPO BOLETO', 'TOTAL RECAUDADO', 'GANANCIA VENDEDOR']]\n",
        "for i in range(len(tipo_vendedor)):\n",
        "    m = [   tipo_vendedor[i],\n",
        "            cantidad_boletos[i],\n",
        "            tipo_boletos[i],\n",
        "            total_recaudado[i],\n",
        "            ganancia_vendedor[i],\n",
        "            total[i]\n",
        "         ]\n",
        "    total.append(m)"
      ],
      "execution_count": 6,
      "outputs": []
    },
    {
      "cell_type": "code",
      "metadata": {
        "id": "RVa1axOEYg6G",
        "colab_type": "code",
        "colab": {}
      },
      "source": [
        "\n",
        "def display(array,mensaje):\n",
        "    print(mensaje)\n",
        "    \n",
        "    s = [[str(e) for e in row] for row in array]\n",
        "    lens = [max(map(len, col)) for col in zip(*s)]\n",
        "    fmt = '\\t'.join('{{:{}}}'.format(x) for x in lens)\n",
        "    table = [fmt.format(*row) for row in s]\n",
        "    print('\\n'.join(table))"
      ],
      "execution_count": 7,
      "outputs": []
    },
    {
      "cell_type": "code",
      "metadata": {
        "id": "Rkn7240DYidO",
        "colab_type": "code",
        "colab": {
          "base_uri": "https://localhost:8080/",
          "height": 152
        },
        "outputId": "3f5001b2-f04f-4d85-cf70-097d97cad80a"
      },
      "source": [
        "display(total, 'TOTAL DE VENTAS')"
      ],
      "execution_count": 8,
      "outputs": [
        {
          "output_type": "stream",
          "text": [
            "TOTAL DE VENTAS\n",
            "TIPO VENDEDOR\tCANTIDAD BOLETOS\tTIPO BOLETO\tTOTAL RECAUDADO\tGANANCIA VENDEDOR \n",
            "1            \t2               \tA          \t80             \t1.6               \n",
            "1            \t3               \tB          \t90             \t2.6999999999999997\n",
            "2            \t2               \tA          \t80             \t1.6               \n",
            "2            \t3               \tC          \t75             \t3.0               \n",
            "3            \t2               \tA          \t80             \t1.6               \n",
            "3            \t4               \tD          \t88             \t4.4               \n"
          ],
          "name": "stdout"
        }
      ]
    },
    {
      "cell_type": "markdown",
      "metadata": {
        "id": "aNPtqWuSjfPQ",
        "colab_type": "text"
      },
      "source": [
        "# REPORTE 1 "
      ]
    },
    {
      "cell_type": "code",
      "metadata": {
        "id": "Wl2FwBJ4Y8wV",
        "colab_type": "code",
        "colab": {}
      },
      "source": [
        "def REPORTE_1():\n",
        "    \n",
        "    reporte_1 = [['TIPO BOLETO', 'CANTIDAD BOLETOS', 'TOTAL RECAUDADO']]\n",
        "    boletos_total= []\n",
        "    total_recaudado_total = []\n",
        "\n",
        "    def unique(list_):  \n",
        "            list_set = set(list_)     \n",
        "            unique_list = (list(list_set)) \n",
        "            return unique_list\n",
        "\n",
        "    tipo_boletos_list = unique(tipo_boletos)\n",
        "\n",
        "    indices_total = []\n",
        "    for tipo in tipo_boletos_list:\n",
        "        indice = []\n",
        "        for i, boleto in enumerate(tipo_boletos):\n",
        "            if boleto == tipo: \n",
        "                indice.append(i)\n",
        "        indices_total.append(indice)\n",
        "    indices_total\n",
        "\n",
        "    for indice in indices_total: \n",
        "        acumulado_boletos = 0\n",
        "        acumulado_recaudado = 0\n",
        "        for i in indice : \n",
        "            acumulado_boletos = acumulado_boletos + cantidad_boletos[i]\n",
        "            acumulado_recaudado = acumulado_recaudado + total_recaudado[i] \n",
        "\n",
        "        boletos_total.append(acumulado_boletos)        \n",
        "        total_recaudado_total.append(acumulado_recaudado)\n",
        "\n",
        "    for i in range(len(boletos_total)):\n",
        "            m = [tipo_boletos_list[i] ,boletos_total[i], total_recaudado_total[i]]\n",
        "            reporte_1.append(m)\n",
        "\n",
        "\n",
        "    display(reporte_1,'REPORTE 2: PROMEDIO DE EDADES POR FACULTAD\\n')\n"
      ],
      "execution_count": 9,
      "outputs": []
    },
    {
      "cell_type": "code",
      "metadata": {
        "id": "rJwDryrNjbNE",
        "colab_type": "code",
        "colab": {
          "base_uri": "https://localhost:8080/",
          "height": 135
        },
        "outputId": "617a49f5-86eb-4f21-80d6-0c053d869be0"
      },
      "source": [
        "REPORTE_1()"
      ],
      "execution_count": 10,
      "outputs": [
        {
          "output_type": "stream",
          "text": [
            "REPORTE 2: PROMEDIO DE EDADES POR FACULTAD\n",
            "\n",
            "TIPO BOLETO\tCANTIDAD BOLETOS\tTOTAL RECAUDADO\n",
            "B          \t3               \t90             \n",
            "C          \t3               \t75             \n",
            "A          \t6               \t240            \n",
            "D          \t4               \t88             \n"
          ],
          "name": "stdout"
        }
      ]
    },
    {
      "cell_type": "markdown",
      "metadata": {
        "id": "EYs66sAUjqLJ",
        "colab_type": "text"
      },
      "source": [
        "# REPORTE 2 "
      ]
    },
    {
      "cell_type": "code",
      "metadata": {
        "id": "Qoeeo9Aijmxs",
        "colab_type": "code",
        "colab": {}
      },
      "source": [
        "def REPORTE_2():\n",
        "    \n",
        "    reporte_2 = [['TIPO BOLETO', 'CANTIDAD BOLETOS', 'TOTAL RECAUDADO']]\n",
        "    boletos_total= []\n",
        "\n",
        "    def unique(list_):  \n",
        "            list_set = set(list_)     \n",
        "            unique_list = (list(list_set)) \n",
        "            return unique_list\n",
        "\n",
        "    tipo_vendedor_list = unique(tipo_vendedor)\n",
        "\n",
        "    indices_total = []\n",
        "    for tipo in tipo_vendedor_list:\n",
        "        indice = []\n",
        "        for i, vendedor in enumerate(tipo_vendedor):\n",
        "            if vendedor == tipo: \n",
        "                indice.append(i)\n",
        "        indices_total.append(indice)\n",
        "    indices_total\n",
        "\n",
        "    for indice in indices_total: \n",
        "        acumulado_boletos = 0\n",
        "        for i in indice : \n",
        "            acumulado_boletos = acumulado_boletos + cantidad_boletos[i]\n",
        "\n",
        "        boletos_total.append(acumulado_boletos)        \n",
        "\n",
        "    for i in range(len(boletos_total)):\n",
        "            m = [tipo_vendedor_list[i] ,boletos_total[i]]\n",
        "            reporte_2.append(m)\n",
        "\n",
        "\n",
        "    display(reporte_2,'REPORTE 2: PROMEDIO DE EDADES POR FACULTAD\\n')\n"
      ],
      "execution_count": 11,
      "outputs": []
    },
    {
      "cell_type": "code",
      "metadata": {
        "id": "Ej8-q6oCl05t",
        "colab_type": "code",
        "colab": {
          "base_uri": "https://localhost:8080/",
          "height": 118
        },
        "outputId": "6d7d6182-510d-475b-ef50-d9bab9f65cd4"
      },
      "source": [
        "REPORTE_2()"
      ],
      "execution_count": 12,
      "outputs": [
        {
          "output_type": "stream",
          "text": [
            "REPORTE 2: PROMEDIO DE EDADES POR FACULTAD\n",
            "\n",
            "TIPO BOLETO\tCANTIDAD BOLETOS\n",
            "3          \t6               \n",
            "1          \t5               \n",
            "2          \t5               \n"
          ],
          "name": "stdout"
        }
      ]
    },
    {
      "cell_type": "markdown",
      "metadata": {
        "id": "utk6avZ7l58G",
        "colab_type": "text"
      },
      "source": [
        "# REPORTE 3"
      ]
    },
    {
      "cell_type": "code",
      "metadata": {
        "id": "vAi6ps97l8Qq",
        "colab_type": "code",
        "colab": {}
      },
      "source": [
        "def REPORTE_3():\n",
        "    reporte_3 = [['TIPO VENDEDOR', 'GANANCIA DEL VENDEDOR', 'TOTAL RECAUDADO']]\n",
        "    ganancia_total= []\n",
        "    total_recaudado_total = []\n",
        "\n",
        "    def unique(list_):  \n",
        "            list_set = set(list_)     \n",
        "            unique_list = (list(list_set)) \n",
        "            return unique_list\n",
        "\n",
        "    tipo_vendedor_list = unique(tipo_vendedor)\n",
        "\n",
        "    indices_total = []\n",
        "    for tipo in tipo_vendedor_list:\n",
        "        indice = []\n",
        "        for i, vendedor in enumerate(tipo_vendedor):\n",
        "            if vendedor == tipo: \n",
        "                indice.append(i)\n",
        "        indices_total.append(indice)\n",
        "    indices_total\n",
        "\n",
        "    for indice in indices_total: \n",
        "        acumulado_ganancia = 0\n",
        "        acumulado_recaudado = 0\n",
        "        for i in indice : \n",
        "            acumulado_ganancia = acumulado_ganancia + ganancia_vendedor[i]\n",
        "            acumulado_recaudado = acumulado_recaudado + total_recaudado[i] \n",
        "\n",
        "        ganancia_total.append(acumulado_ganancia)        \n",
        "        total_recaudado_total.append(acumulado_recaudado)\n",
        "\n",
        "    for i in range(len(tipo_vendedor_list)):\n",
        "            m = [tipo_vendedor_list[i] ,ganancia_total[i], total_recaudado_total[i]]\n",
        "            reporte_3.append(m)\n",
        "\n",
        "\n",
        "    display(reporte_3,'REPORTE 3: GANANCIA Y TOTAL RECAUDADO POR VENDEDOR D\\n')"
      ],
      "execution_count": 66,
      "outputs": []
    },
    {
      "cell_type": "code",
      "metadata": {
        "id": "ZPD8QJo8l8E2",
        "colab_type": "code",
        "colab": {
          "base_uri": "https://localhost:8080/",
          "height": 118
        },
        "outputId": "518f9660-2713-479a-b3d7-1a7a7c4d0286"
      },
      "source": [
        "REPORTE_3()"
      ],
      "execution_count": 67,
      "outputs": [
        {
          "output_type": "stream",
          "text": [
            "REPORTE 3: GANANCIA Y TOTAL RECAUDADO POR VENDEDOR D\n",
            "\n",
            "TIPO VENDEDOR\tGANANCIA DEL VENDEDOR\tTOTAL RECAUDADO\n",
            "3            \t6.0                  \t168            \n",
            "1            \t4.3                  \t170            \n",
            "2            \t4.6                  \t155            \n"
          ],
          "name": "stdout"
        }
      ]
    },
    {
      "cell_type": "markdown",
      "metadata": {
        "id": "2Y2QvaH8pNFt",
        "colab_type": "text"
      },
      "source": [
        "# REPORTE 4"
      ]
    },
    {
      "cell_type": "code",
      "metadata": {
        "id": "AS_pJq-2pN4K",
        "colab_type": "code",
        "colab": {}
      },
      "source": [
        "def REPORTE_4():\n",
        "    reporte_4 = [['TIPO VENDEDOR', 'PORCENTAJE GANANCIA']]\n",
        "    ganancia_total= []\n",
        "    total_recaudado_total = []\n",
        "\n",
        "    def unique(list_):  \n",
        "            list_set = set(list_)     \n",
        "            unique_list = (list(list_set)) \n",
        "            return unique_list\n",
        "\n",
        "    tipo_vendedor_list = unique(tipo_vendedor)\n",
        "\n",
        "    indices_total = []\n",
        "    for tipo in tipo_vendedor_list:\n",
        "        indice = []\n",
        "        for i, vendedor in enumerate(tipo_vendedor):\n",
        "            if vendedor == tipo: \n",
        "                indice.append(i)\n",
        "        indices_total.append(indice)\n",
        "    indices_total\n",
        "\n",
        "    for indice in indices_total: \n",
        "        acumulado_ganancia = 0\n",
        "        acumulado_recaudado = 0\n",
        "        for i in indice : \n",
        "            acumulado_ganancia = acumulado_ganancia + ganancia_vendedor[i]\n",
        "            acumulado_recaudado = acumulado_recaudado + total_recaudado[i] \n",
        "\n",
        "        ganancia_total.append(acumulado_ganancia)        \n",
        "        total_recaudado_total.append(acumulado_recaudado)\n",
        "\n",
        "    for i in range(len(tipo_vendedor_list)):\n",
        "            m = [tipo_vendedor_list[i] ,ganancia_total[i]/total_recaudado_total[i]]\n",
        "            reporte_4.append(m)\n",
        "\n",
        "\n",
        "    display(reporte_4,'REPORTE 4: PORCENTAJE DE GANANCIA POR VENDEDOR\\n')"
      ],
      "execution_count": 68,
      "outputs": []
    },
    {
      "cell_type": "code",
      "metadata": {
        "id": "R4Ul7fZHpNkW",
        "colab_type": "code",
        "colab": {
          "base_uri": "https://localhost:8080/",
          "height": 118
        },
        "outputId": "fa57a8b5-82c5-407d-a974-b7c8fcb2528b"
      },
      "source": [
        "REPORTE_4()"
      ],
      "execution_count": 69,
      "outputs": [
        {
          "output_type": "stream",
          "text": [
            "REPORTE 4: PORCENTAJE DE GANANCIA POR VENDEDOR\n",
            "\n",
            "TIPO VENDEDOR\tPORCENTAJE GANANCIA \n",
            "3            \t0.03571428571428571 \n",
            "1            \t0.02529411764705882 \n",
            "2            \t0.029677419354838707\n"
          ],
          "name": "stdout"
        }
      ]
    },
    {
      "cell_type": "markdown",
      "metadata": {
        "id": "BS_qIRQRqMH1",
        "colab_type": "text"
      },
      "source": [
        "# REPORTE 5"
      ]
    },
    {
      "cell_type": "code",
      "metadata": {
        "id": "pjX0nJqDpYpV",
        "colab_type": "code",
        "colab": {}
      },
      "source": [
        "def REPORTE_5():\n",
        "    max_cantidad_boletos = max(cantidad_boletos)\n",
        "    for i , boleto in enumerate(cantidad_boletos):\n",
        "        if boleto == max_cantidad_boletos: \n",
        "            indice = i\n",
        "    print('El vendedor numero ',tipo_vendedor[indice], ' vendio ',cantidad_boletos[indice], ' boletos.')\n",
        "    print('Esto es la cantidad maxima de boletos vendidos y el tipo de boleto es ',tipo_boletos[indice],'.')"
      ],
      "execution_count": 64,
      "outputs": []
    },
    {
      "cell_type": "code",
      "metadata": {
        "id": "tOscQZKIaAGQ",
        "colab_type": "code",
        "colab": {
          "base_uri": "https://localhost:8080/",
          "height": 50
        },
        "outputId": "8c4efb06-0d51-438e-9a06-0622d0161566"
      },
      "source": [
        "REPORTE_5()"
      ],
      "execution_count": 65,
      "outputs": [
        {
          "output_type": "stream",
          "text": [
            "El vendedor numero  3  vendio  4  boletos.\n",
            "Esto es la cantidad maxima de boletos vendidos y el tipo de boleto es  D .\n"
          ],
          "name": "stdout"
        }
      ]
    },
    {
      "cell_type": "markdown",
      "metadata": {
        "id": "WIaT6IeDs0j9",
        "colab_type": "text"
      },
      "source": [
        "# REPORTE 6"
      ]
    },
    {
      "cell_type": "code",
      "metadata": {
        "id": "yhjGcygKpYdX",
        "colab_type": "code",
        "colab": {}
      },
      "source": [
        "def REPORTE_6():\n",
        "    min_cantidad_boletos = min(cantidad_boletos)\n",
        "    for i , boleto in enumerate(cantidad_boletos):\n",
        "        if boleto == min_cantidad_boletos: \n",
        "            indice = i\n",
        "    print('El vendedor numero ',tipo_vendedor[indice], ' vendio ',cantidad_boletos[indice], ' boletos.')\n",
        "    print('Esto es la cantidad minima de boletos vendidos y el tipo de boleto es ',tipo_boletos[indice],'.')"
      ],
      "execution_count": 17,
      "outputs": []
    },
    {
      "cell_type": "code",
      "metadata": {
        "id": "dHP8FGEOpYR_",
        "colab_type": "code",
        "colab": {
          "base_uri": "https://localhost:8080/",
          "height": 50
        },
        "outputId": "20b0a487-89c7-4111-e141-578abc1acfdd"
      },
      "source": [
        "REPORTE_6()"
      ],
      "execution_count": 18,
      "outputs": [
        {
          "output_type": "stream",
          "text": [
            "El vendedor numero  3  vendio  2  boletos.\n",
            "Esto es la cantidad minima de boletos vendidos y el tipo de boleto es  A .\n"
          ],
          "name": "stdout"
        }
      ]
    },
    {
      "cell_type": "markdown",
      "metadata": {
        "id": "BU6Ku2QcvSCn",
        "colab_type": "text"
      },
      "source": [
        "# REPORTE 7"
      ]
    },
    {
      "cell_type": "code",
      "metadata": {
        "id": "csBzjfBwpYFa",
        "colab_type": "code",
        "colab": {}
      },
      "source": [
        "def REPORTE_7():\n",
        "    min_venta_recaudada = min(total_recaudado)\n",
        "    max_venta_recaudada = max(total_recaudado)\n",
        "\n",
        "    for i , boleto in enumerate(total_recaudado):\n",
        "        if boleto == min_venta_recaudada: \n",
        "            indice_min = i\n",
        "    for i , boleto in enumerate(total_recaudado):\n",
        "        if boleto == max_venta_recaudada: \n",
        "            indice_max = i\n",
        "\n",
        "\n",
        "    print('La maxima venta recaudada fue ', total_recaudado[indice_max])\n",
        "    print('La minima venta recaudada fue ', total_recaudado[indice_min])"
      ],
      "execution_count": 19,
      "outputs": []
    },
    {
      "cell_type": "code",
      "metadata": {
        "id": "Qr79w2lDwInq",
        "colab_type": "code",
        "colab": {
          "base_uri": "https://localhost:8080/",
          "height": 50
        },
        "outputId": "bd0f07d4-8791-467a-b09a-421955844c30"
      },
      "source": [
        "REPORTE_7()"
      ],
      "execution_count": 20,
      "outputs": [
        {
          "output_type": "stream",
          "text": [
            "La maxima venta recaudada fue  90\n",
            "La minima venta recaudada fue  75\n"
          ],
          "name": "stdout"
        }
      ]
    },
    {
      "cell_type": "markdown",
      "metadata": {
        "id": "8k7WG5inwOgQ",
        "colab_type": "text"
      },
      "source": [
        "# REPORTE 8"
      ]
    },
    {
      "cell_type": "code",
      "metadata": {
        "id": "Bl9HYaniwOPS",
        "colab_type": "code",
        "colab": {}
      },
      "source": [
        "\n",
        "def REPORTE_8():\n",
        "    \n",
        "    reporte_8 = [['TIPO VENDEDOR',  'TOTAL RECAUDADO']]\n",
        "    reporte = []\n",
        "    total_recaudado_list= []\n",
        "\n",
        "    def unique(list_):  \n",
        "            list_set = set(list_)     \n",
        "            unique_list = (list(list_set)) \n",
        "            return unique_list\n",
        "\n",
        "    tipo_vendedor_list = unique(tipo_vendedor)\n",
        "\n",
        "    indices_total = []\n",
        "    for tipo in tipo_vendedor_list:\n",
        "        indice = []\n",
        "        for i, vendedor in enumerate(tipo_vendedor):\n",
        "            if vendedor == tipo: \n",
        "                indice.append(i)\n",
        "        indices_total.append(indice)\n",
        "\n",
        "    for indice in indices_total: \n",
        "        acumulado_recaudado = 0\n",
        "        for i in indice : \n",
        "            acumulado_recaudado = acumulado_recaudado + total_recaudado[i]\n",
        "        total_recaudado_list.append(acumulado_recaudado)   \n",
        "\n",
        "    for i in range(len(tipo_vendedor_list)):\n",
        "            m = [tipo_vendedor_list[i] ,total_recaudado_list[i]]\n",
        "            reporte.append(m)\n",
        "    reporte.sort(key=lambda x: x[1])\n",
        "\n",
        "    for i in range(len(reporte)):\n",
        "        reporte_8.append(reporte[i])\n",
        "\n",
        "    display(reporte_8,'REPORTE 4: PROMEDIO DE EDADES POR FACULTAD\\n')"
      ],
      "execution_count": 56,
      "outputs": []
    },
    {
      "cell_type": "code",
      "metadata": {
        "id": "3CC-wdo0wMjf",
        "colab_type": "code",
        "colab": {
          "base_uri": "https://localhost:8080/",
          "height": 118
        },
        "outputId": "72484342-794a-4663-80e9-9471258ec417"
      },
      "source": [
        "REPORTE_8()"
      ],
      "execution_count": 57,
      "outputs": [
        {
          "output_type": "stream",
          "text": [
            "REPORTE 4: PROMEDIO DE EDADES POR FACULTAD\n",
            "\n",
            "TIPO VENDEDOR\tTOTAL RECAUDADO\n",
            "2            \t155            \n",
            "3            \t168            \n",
            "1            \t170            \n"
          ],
          "name": "stdout"
        }
      ]
    }
  ]
}