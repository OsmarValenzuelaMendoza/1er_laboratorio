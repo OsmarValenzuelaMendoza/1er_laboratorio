{
  "nbformat": 4,
  "nbformat_minor": 0,
  "metadata": {
    "colab": {
      "name": "Prob.12 propuesto - Valenzuela Mendoza .ipynb",
      "provenance": [],
      "authorship_tag": "ABX9TyP+nQN6QqEUkZLiCzlPnj0G",
      "include_colab_link": true
    },
    "kernelspec": {
      "name": "python3",
      "display_name": "Python 3"
    }
  },
  "cells": [
    {
      "cell_type": "markdown",
      "metadata": {
        "id": "view-in-github",
        "colab_type": "text"
      },
      "source": [
        "<a href=\"https://colab.research.google.com/github/OsmarValenzuelaMendoza/1er_laboratorio/blob/master/Prob_12_propuesto_Valenzuela_Mendoza_.ipynb\" target=\"_parent\"><img src=\"https://colab.research.google.com/assets/colab-badge.svg\" alt=\"Open In Colab\"/></a>"
      ]
    },
    {
      "cell_type": "code",
      "metadata": {
        "id": "PQti13Y-t12F",
        "colab_type": "code",
        "colab": {}
      },
      "source": [
        "from datetime import datetime"
      ],
      "execution_count": 1,
      "outputs": []
    },
    {
      "cell_type": "code",
      "metadata": {
        "id": "9g7kHhIgnItm",
        "colab_type": "code",
        "colab": {}
      },
      "source": [
        "today= datetime.now()\n",
        "\n",
        "codigos = []\n",
        "apellidos = []\n",
        "puntajes = []\n",
        "sexos = []\n",
        "\n",
        "def Ingreso():\n",
        "    \n",
        "    i = 0\n",
        "    while  True :\n",
        "        print('Hora : ', today)\n",
        "        print('--- Datos de los alumnos ---')\n",
        "        codigo = str(input('Ingrese el código: '))\n",
        "        apellido = str(input('Ingrese el apellido: '))\n",
        "        puntaje = int(input('Ingrese la puntaje: '))\n",
        "        sexo = str(input('Ingrese la sexo: '))\n",
        "\n",
        "        codigos.append(codigo)\n",
        "        apellidos.append(apellido)\n",
        "        puntajes.append(puntaje)\n",
        "        sexos.append(sexo)\n",
        "\n",
        "        print()\n",
        "        print('Total de alumnos ingresados: ',len(codigos))\n",
        "        print()\n",
        "\n",
        "        # El programa le preguntará constantemente si desea seguir añadiendo personas\n",
        "        seguir = input('DESEA SEGUIR INGRESANDO DATOS(S/N): ')\n",
        "        seguir = seguir.upper()\n",
        "        i = i+1\n",
        "        # Al escribir una letra diferente a 'S' o 's' el programa se cortará\n",
        "        if seguir != 'S' :\n",
        "                break"
      ],
      "execution_count": 2,
      "outputs": []
    },
    {
      "cell_type": "code",
      "metadata": {
        "id": "1Ouvn9qLty7M",
        "colab_type": "code",
        "colab": {
          "base_uri": "https://localhost:8080/",
          "height": 878
        },
        "outputId": "827a45c4-8c01-4cfb-ebc5-63af9d700ad8"
      },
      "source": [
        "Ingreso()"
      ],
      "execution_count": 3,
      "outputs": [
        {
          "output_type": "stream",
          "text": [
            "Hora :  2020-07-14 01:42:34.541889\n",
            "--- Datos de los alumnos ---\n",
            "Ingrese el código: 20170244B\n",
            "Ingrese el apellido: VALENZUELA\n",
            "Ingrese la puntaje: 23\n",
            "Ingrese la sexo: M\n",
            "\n",
            "Total de alumnos ingresados:  1\n",
            "\n",
            "DESEA SEGUIR INGRESANDO DATOS(S/N): S\n",
            "Hora :  2020-07-14 01:42:34.541889\n",
            "--- Datos de los alumnos ---\n",
            "Ingrese el código: 20174452J\n",
            "Ingrese el apellido: JIMENEZ\n",
            "Ingrese la puntaje: 34\n",
            "Ingrese la sexo: F\n",
            "\n",
            "Total de alumnos ingresados:  2\n",
            "\n",
            "DESEA SEGUIR INGRESANDO DATOS(S/N): S\n",
            "Hora :  2020-07-14 01:42:34.541889\n",
            "--- Datos de los alumnos ---\n",
            "Ingrese el código: 20178976K\n",
            "Ingrese el apellido: MENDOZA\n",
            "Ingrese la puntaje: 12\n",
            "Ingrese la sexo: M\n",
            "\n",
            "Total de alumnos ingresados:  3\n",
            "\n",
            "DESEA SEGUIR INGRESANDO DATOS(S/N): S\n",
            "Hora :  2020-07-14 01:42:34.541889\n",
            "--- Datos de los alumnos ---\n",
            "Ingrese el código: 20178946L\n",
            "Ingrese el apellido: ZANABRIA\n",
            "Ingrese la puntaje: 29\n",
            "Ingrese la sexo: M\n",
            "\n",
            "Total de alumnos ingresados:  4\n",
            "\n",
            "DESEA SEGUIR INGRESANDO DATOS(S/N): S\n",
            "Hora :  2020-07-14 01:42:34.541889\n",
            "--- Datos de los alumnos ---\n",
            "Ingrese el código: 20176524D\n",
            "Ingrese el apellido: ROJAS\n",
            "Ingrese la puntaje: 16\n",
            "Ingrese la sexo: F\n",
            "\n",
            "Total de alumnos ingresados:  5\n",
            "\n",
            "DESEA SEGUIR INGRESANDO DATOS(S/N): N\n"
          ],
          "name": "stdout"
        }
      ]
    },
    {
      "cell_type": "code",
      "metadata": {
        "id": "Z7strwYxsfRr",
        "colab_type": "code",
        "colab": {}
      },
      "source": [
        "def display(array,mensaje):\n",
        "    print(mensaje)\n",
        "    \n",
        "    s = [[str(e) for e in row] for row in array]\n",
        "    lens = [max(map(len, col)) for col in zip(*s)]\n",
        "    fmt = '\\t'.join('{{:{}}}'.format(x) for x in lens)\n",
        "    table = [fmt.format(*row) for row in s]\n",
        "    print('\\n'.join(table))"
      ],
      "execution_count": 4,
      "outputs": []
    },
    {
      "cell_type": "markdown",
      "metadata": {
        "id": "_mtnME0lsWR1",
        "colab_type": "text"
      },
      "source": [
        "# Reporte 1"
      ]
    },
    {
      "cell_type": "code",
      "metadata": {
        "id": "rAioGdAfsX7A",
        "colab_type": "code",
        "colab": {}
      },
      "source": [
        "def REPORTE_1():\n",
        "\n",
        "    reporte = [['Codigos', 'Apellidos', 'Puntajes']]\n",
        "    for i in range(len(codigos)):\n",
        "        m = [codigos[i] , apellidos[i] ,  puntajes[i]]\n",
        "        reporte.append(m)\n",
        "\n",
        "    display(reporte, 'REPORTE 1: \\n')"
      ],
      "execution_count": 5,
      "outputs": []
    },
    {
      "cell_type": "code",
      "metadata": {
        "id": "p4qrZhZVxWCj",
        "colab_type": "code",
        "colab": {
          "base_uri": "https://localhost:8080/",
          "height": 153
        },
        "outputId": "de3326ca-3a53-4d10-a727-ae4780e22088"
      },
      "source": [
        "REPORTE_1()"
      ],
      "execution_count": 6,
      "outputs": [
        {
          "output_type": "stream",
          "text": [
            "REPORTE 1: \n",
            "\n",
            "Codigos  \tApellidos \tPuntajes\n",
            "20170244B\tVALENZUELA\t23      \n",
            "20174452J\tJIMENEZ   \t34      \n",
            "20178976K\tMENDOZA   \t12      \n",
            "20178946L\tZANABRIA  \t29      \n",
            "20176524D\tROJAS     \t16      \n"
          ],
          "name": "stdout"
        }
      ]
    },
    {
      "cell_type": "markdown",
      "metadata": {
        "id": "CV0zhnAU1eYd",
        "colab_type": "text"
      },
      "source": [
        "# Reporte 2"
      ]
    },
    {
      "cell_type": "code",
      "metadata": {
        "id": "usPK7rNOxXfP",
        "colab_type": "code",
        "colab": {}
      },
      "source": [
        "\n",
        "def REPORTE_2():\n",
        "    final = [['Apellido' , 'Sexo']]\n",
        "    reporte = []\n",
        "\n",
        "    for i in range(len(codigos)):\n",
        "        union = [apellidos[i], sexos[i] ]\n",
        "        reporte.append(union)\n",
        "    reporte.sort(key = lambda x : x[1])\n",
        "\n",
        "    for i in range(len(reporte)):\n",
        "        final.append(reporte[i])\n",
        "\n",
        "    display(final, 'REPORTE 3\\n')"
      ],
      "execution_count": 7,
      "outputs": []
    },
    {
      "cell_type": "code",
      "metadata": {
        "id": "DN2v1DQF6VRl",
        "colab_type": "code",
        "colab": {
          "base_uri": "https://localhost:8080/",
          "height": 153
        },
        "outputId": "d012bd75-02a9-46b4-ee68-3996a9bc08a2"
      },
      "source": [
        "REPORTE_2()"
      ],
      "execution_count": 8,
      "outputs": [
        {
          "output_type": "stream",
          "text": [
            "REPORTE 3\n",
            "\n",
            "Apellido  \tSexo\n",
            "JIMENEZ   \tF   \n",
            "ROJAS     \tF   \n",
            "VALENZUELA\tM   \n",
            "MENDOZA   \tM   \n",
            "ZANABRIA  \tM   \n"
          ],
          "name": "stdout"
        }
      ]
    },
    {
      "cell_type": "markdown",
      "metadata": {
        "id": "BIzhS8W67kN2",
        "colab_type": "text"
      },
      "source": [
        "# Reporte 3"
      ]
    },
    {
      "cell_type": "code",
      "metadata": {
        "id": "MWUPFI6_6ZCS",
        "colab_type": "code",
        "colab": {}
      },
      "source": [
        "def REPORTE_3():\n",
        "    \n",
        "    indice_pro = []\n",
        "    indice_no = []\n",
        "    for i, puntaje in enumerate(puntajes):\n",
        "        if puntaje > 20 :\n",
        "            indice_pro.append(i)\n",
        "        else :\n",
        "            indice_no.append(i)\n",
        "    print('ALUMNOS PROMOVIDOS')\n",
        "    print('==========================\\n')\n",
        "    for i in indice_pro:\n",
        "        print('Apellido:  ', apellidos[i], ' Puntaje:  ', puntajes[i])\n",
        "    \n",
        "    print()\n",
        "    print('ALUMNOS NO  PROMOVIDOS')\n",
        "    print('===============================\\n')\n",
        "    for i in indice_no:\n",
        "        print('Apellido:  ', apellidos[i], ' Puntaje:  ', puntajes[i])\n",
        "    \n",
        "\n"
      ],
      "execution_count": 9,
      "outputs": []
    },
    {
      "cell_type": "code",
      "metadata": {
        "id": "OKyehXeJ8nq_",
        "colab_type": "code",
        "colab": {
          "base_uri": "https://localhost:8080/",
          "height": 221
        },
        "outputId": "c9f5bedd-9fb6-4bfa-9796-0903e947a3f2"
      },
      "source": [
        "REPORTE_3()"
      ],
      "execution_count": 10,
      "outputs": [
        {
          "output_type": "stream",
          "text": [
            "ALUMNOS PROMOVIDOS\n",
            "==========================\n",
            "\n",
            "Apellido:   VALENZUELA  Puntaje:   23\n",
            "Apellido:   JIMENEZ  Puntaje:   34\n",
            "Apellido:   ZANABRIA  Puntaje:   29\n",
            "\n",
            "ALUMNOS NO  PROMOVIDOS\n",
            "===============================\n",
            "\n",
            "Apellido:   MENDOZA  Puntaje:   12\n",
            "Apellido:   ROJAS  Puntaje:   16\n"
          ],
          "name": "stdout"
        }
      ]
    },
    {
      "cell_type": "code",
      "metadata": {
        "id": "pcI8mzwh9p80",
        "colab_type": "code",
        "colab": {}
      },
      "source": [
        ""
      ],
      "execution_count": 10,
      "outputs": []
    }
  ]
}