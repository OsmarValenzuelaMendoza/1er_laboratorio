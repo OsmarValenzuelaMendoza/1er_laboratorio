{
  "nbformat": 4,
  "nbformat_minor": 0,
  "metadata": {
    "colab": {
      "name": "problema 7.ipynb",
      "provenance": [],
      "authorship_tag": "ABX9TyPNL2+w06NWzt0xt0e6HBn1",
      "include_colab_link": true
    },
    "kernelspec": {
      "name": "python3",
      "display_name": "Python 3"
    }
  },
  "cells": [
    {
      "cell_type": "markdown",
      "metadata": {
        "id": "view-in-github",
        "colab_type": "text"
      },
      "source": [
        "<a href=\"https://colab.research.google.com/github/OsmarValenzuelaMendoza/1er_laboratorio/blob/master/problema_7.ipynb\" target=\"_parent\"><img src=\"https://colab.research.google.com/assets/colab-badge.svg\" alt=\"Open In Colab\"/></a>"
      ]
    },
    {
      "cell_type": "code",
      "metadata": {
        "id": "3qGQ_EDKmwF4",
        "colab_type": "code",
        "colab": {}
      },
      "source": [
        "from datetime import datetime\n",
        "import pandas as pd\n",
        "import numpy as np\n",
        "\n",
        "#Crear la base de datos con las columnas o atributos \n",
        "alumnos = pd.DataFrame(columns = ['Codigo', 'Nombre', 'Edad', 'Facultad',])\n",
        "today = datetime.now()\n",
        "\n",
        "\n",
        "#Primera funcion de INGRESO DE DATOS\n",
        "\n",
        "def Ingreso():\n",
        "    \n",
        "    i = 0\n",
        "    while  True :\n",
        "        print('Hora : ', today)\n",
        "        print('--- Datos de los alumnos ---')\n",
        "        codigo = input('Ingrese el código: ')\n",
        "        nombre = input('Ingrese el nombre: ')\n",
        "        edad = input('Ingrese la edad: ')\n",
        "        facultad = input('Ingrese la facultad: ')\n",
        "\n",
        "        alumnos.loc[i]= [codigo, nombre, edad, facultad]\n",
        "        \n",
        "\n",
        "        print()\n",
        "        print('Total de alumnos ingresados: ', alumnos.shape[0])\n",
        "        print()\n",
        "\n",
        "        # El programa le preguntará constantemente si desea seguir añadiendo personas\n",
        "        seguir = input('DESEA SEGUIR INGRESANDO DATOS(S/N): ')\n",
        "        seguir = seguir.upper()\n",
        "        i = i+1\n",
        "        # Al escribir una letra diferente a 'S' o 's' el programa se cortará\n",
        "        if seguir != 'S' :\n",
        "                break"
      ],
      "execution_count": 1,
      "outputs": []
    },
    {
      "cell_type": "code",
      "metadata": {
        "id": "Z2I3mscZbKM8",
        "colab_type": "code",
        "colab": {
          "base_uri": "https://localhost:8080/",
          "height": 1000
        },
        "outputId": "3a52a2c7-41e4-4f69-97be-63ab2c457c48"
      },
      "source": [
        "Ingreso()"
      ],
      "execution_count": 2,
      "outputs": [
        {
          "output_type": "stream",
          "text": [
            "Hora :  2020-07-09 20:39:33.206369\n",
            "--- Datos de los alumnos ---\n",
            "Ingrese el código: 20170244B\n",
            "Ingrese el nombre: Osmar Valenzuela\n",
            "Ingrese la edad: 20\n",
            "Ingrese la facultad: Sistemas\n",
            "\n",
            "Total de alumnos ingresados:  1\n",
            "\n",
            "DESEA SEGUIR INGRESANDO DATOS(S/N): S\n",
            "Hora :  2020-07-09 20:39:33.206369\n",
            "--- Datos de los alumnos ---\n",
            "Ingrese el código: 20177524C\n",
            "Ingrese el nombre: Jose Rodriguez\n",
            "Ingrese la edad: 21\n",
            "Ingrese la facultad: Sistemas\n",
            "\n",
            "Total de alumnos ingresados:  2\n",
            "\n",
            "DESEA SEGUIR INGRESANDO DATOS(S/N): s\n",
            "Hora :  2020-07-09 20:39:33.206369\n",
            "--- Datos de los alumnos ---\n",
            "Ingrese el código: 20172345J\n",
            "Ingrese el nombre: Jeremy\n",
            "Ingrese la edad: 23\n",
            "Ingrese la facultad: Industrial\n",
            "\n",
            "Total de alumnos ingresados:  3\n",
            "\n",
            "DESEA SEGUIR INGRESANDO DATOS(S/N): s\n",
            "Hora :  2020-07-09 20:39:33.206369\n",
            "--- Datos de los alumnos ---\n",
            "Ingrese el código: 20173456H\n",
            "Ingrese el nombre: David\n",
            "Ingrese la edad: 24\n",
            "Ingrese la facultad: mecanica\n",
            "\n",
            "Total de alumnos ingresados:  4\n",
            "\n",
            "DESEA SEGUIR INGRESANDO DATOS(S/N): s\n",
            "Hora :  2020-07-09 20:39:33.206369\n",
            "--- Datos de los alumnos ---\n",
            "Ingrese el código: 20173412H\n",
            "Ingrese el nombre: Jesus\n",
            "Ingrese la edad: 19\n",
            "Ingrese la facultad: Industrial\n",
            "\n",
            "Total de alumnos ingresados:  5\n",
            "\n",
            "DESEA SEGUIR INGRESANDO DATOS(S/N): s\n",
            "Hora :  2020-07-09 20:39:33.206369\n",
            "--- Datos de los alumnos ---\n",
            "Ingrese el código: 20173457H\n",
            "Ingrese el nombre: Marco\n",
            "Ingrese la edad: 25\n",
            "Ingrese la facultad: mecanica\n",
            "\n",
            "Total de alumnos ingresados:  6\n",
            "\n",
            "DESEA SEGUIR INGRESANDO DATOS(S/N): n\n"
          ],
          "name": "stdout"
        }
      ]
    },
    {
      "cell_type": "code",
      "metadata": {
        "id": "e532IAbomy2z",
        "colab_type": "code",
        "colab": {}
      },
      "source": [
        "#1er Reporte de los alumnos, solo mostrará el total de alumnos\n",
        "\n",
        "def reporte(alumnos):\n",
        "    print()\n",
        "    print('REPORTE DE ALUMNOS REGISTRADOS')\n",
        "    \n",
        "    return alumnos"
      ],
      "execution_count": 9,
      "outputs": []
    },
    {
      "cell_type": "code",
      "metadata": {
        "id": "_6nttP6wbMnK",
        "colab_type": "code",
        "colab": {
          "base_uri": "https://localhost:8080/",
          "height": 269
        },
        "outputId": "c299ded9-bed8-40e5-f070-bb1e3334aefa"
      },
      "source": [
        "reporte(alumnos)"
      ],
      "execution_count": 10,
      "outputs": [
        {
          "output_type": "stream",
          "text": [
            "\n",
            "REPORTE DE ALUMNOS REGISTRADOS\n"
          ],
          "name": "stdout"
        },
        {
          "output_type": "execute_result",
          "data": {
            "text/html": [
              "<div>\n",
              "<style scoped>\n",
              "    .dataframe tbody tr th:only-of-type {\n",
              "        vertical-align: middle;\n",
              "    }\n",
              "\n",
              "    .dataframe tbody tr th {\n",
              "        vertical-align: top;\n",
              "    }\n",
              "\n",
              "    .dataframe thead th {\n",
              "        text-align: right;\n",
              "    }\n",
              "</style>\n",
              "<table border=\"1\" class=\"dataframe\">\n",
              "  <thead>\n",
              "    <tr style=\"text-align: right;\">\n",
              "      <th></th>\n",
              "      <th>Codigo</th>\n",
              "      <th>Nombre</th>\n",
              "      <th>Edad</th>\n",
              "      <th>Facultad</th>\n",
              "    </tr>\n",
              "  </thead>\n",
              "  <tbody>\n",
              "    <tr>\n",
              "      <th>0</th>\n",
              "      <td>20170244B</td>\n",
              "      <td>Osmar Valenzuela</td>\n",
              "      <td>20</td>\n",
              "      <td>Sistemas</td>\n",
              "    </tr>\n",
              "    <tr>\n",
              "      <th>1</th>\n",
              "      <td>20177524C</td>\n",
              "      <td>Jose Rodriguez</td>\n",
              "      <td>21</td>\n",
              "      <td>Sistemas</td>\n",
              "    </tr>\n",
              "    <tr>\n",
              "      <th>2</th>\n",
              "      <td>20172345J</td>\n",
              "      <td>Jeremy</td>\n",
              "      <td>23</td>\n",
              "      <td>Industrial</td>\n",
              "    </tr>\n",
              "    <tr>\n",
              "      <th>3</th>\n",
              "      <td>20173456H</td>\n",
              "      <td>David</td>\n",
              "      <td>24</td>\n",
              "      <td>mecanica</td>\n",
              "    </tr>\n",
              "    <tr>\n",
              "      <th>4</th>\n",
              "      <td>20173412H</td>\n",
              "      <td>Jesus</td>\n",
              "      <td>19</td>\n",
              "      <td>Industrial</td>\n",
              "    </tr>\n",
              "    <tr>\n",
              "      <th>5</th>\n",
              "      <td>20173457H</td>\n",
              "      <td>Marco</td>\n",
              "      <td>25</td>\n",
              "      <td>mecanica</td>\n",
              "    </tr>\n",
              "  </tbody>\n",
              "</table>\n",
              "</div>"
            ],
            "text/plain": [
              "      Codigo            Nombre  Edad    Facultad\n",
              "0  20170244B  Osmar Valenzuela    20    Sistemas\n",
              "1  20177524C    Jose Rodriguez    21    Sistemas\n",
              "2  20172345J            Jeremy    23  Industrial\n",
              "3  20173456H             David    24    mecanica\n",
              "4  20173412H             Jesus    19  Industrial\n",
              "5  20173457H             Marco    25    mecanica"
            ]
          },
          "metadata": {
            "tags": []
          },
          "execution_count": 10
        }
      ]
    },
    {
      "cell_type": "code",
      "metadata": {
        "id": "lw-o3tkAm03c",
        "colab_type": "code",
        "colab": {}
      },
      "source": [
        " # 2do Reporte : Promedio de edades de alumnos por facultad\n",
        "\n",
        "def promedio():\n",
        "    print('REPORTE DEL PROMEDIO DE EDADES DE ALUMNOS POR FACULTAD')\n",
        "    print()\n",
        "    alumnos.Edad = alumnos.Edad.astype(np.int64)\n",
        "    # Aqui es donde agrupamos por facultad y agregamos el promedio de edad por facultad\n",
        "    promedio_df = alumnos.groupby('Facultad')['Edad'].mean().reset_index()\n",
        "    promedio_df = pd.DataFrame(promedio_df)\n",
        "    \n",
        "    # le presentará la tabla con la facultad y el promedio de edades por facultadd\n",
        "    return promedio_df"
      ],
      "execution_count": 11,
      "outputs": []
    },
    {
      "cell_type": "code",
      "metadata": {
        "id": "INUe_WRfbGqD",
        "colab_type": "code",
        "colab": {
          "base_uri": "https://localhost:8080/",
          "height": 176
        },
        "outputId": "a5855461-fa9a-4f09-bf5d-9ee341ea151a"
      },
      "source": [
        "promedio()"
      ],
      "execution_count": 12,
      "outputs": [
        {
          "output_type": "stream",
          "text": [
            "REPORTE DEL PROMEDIO DE EDADES DE ALUMNOS POR FACULTAD\n",
            "\n"
          ],
          "name": "stdout"
        },
        {
          "output_type": "execute_result",
          "data": {
            "text/html": [
              "<div>\n",
              "<style scoped>\n",
              "    .dataframe tbody tr th:only-of-type {\n",
              "        vertical-align: middle;\n",
              "    }\n",
              "\n",
              "    .dataframe tbody tr th {\n",
              "        vertical-align: top;\n",
              "    }\n",
              "\n",
              "    .dataframe thead th {\n",
              "        text-align: right;\n",
              "    }\n",
              "</style>\n",
              "<table border=\"1\" class=\"dataframe\">\n",
              "  <thead>\n",
              "    <tr style=\"text-align: right;\">\n",
              "      <th></th>\n",
              "      <th>Facultad</th>\n",
              "      <th>Edad</th>\n",
              "    </tr>\n",
              "  </thead>\n",
              "  <tbody>\n",
              "    <tr>\n",
              "      <th>0</th>\n",
              "      <td>Industrial</td>\n",
              "      <td>21.0</td>\n",
              "    </tr>\n",
              "    <tr>\n",
              "      <th>1</th>\n",
              "      <td>Sistemas</td>\n",
              "      <td>20.5</td>\n",
              "    </tr>\n",
              "    <tr>\n",
              "      <th>2</th>\n",
              "      <td>mecanica</td>\n",
              "      <td>24.5</td>\n",
              "    </tr>\n",
              "  </tbody>\n",
              "</table>\n",
              "</div>"
            ],
            "text/plain": [
              "     Facultad  Edad\n",
              "0  Industrial  21.0\n",
              "1    Sistemas  20.5\n",
              "2    mecanica  24.5"
            ]
          },
          "metadata": {
            "tags": []
          },
          "execution_count": 12
        }
      ]
    },
    {
      "cell_type": "code",
      "metadata": {
        "id": "TqW8_hCFm2sR",
        "colab_type": "code",
        "colab": {}
      },
      "source": [
        "# 3er reporte: Alumno por facultad con la mayor edad y cual fue su registro\n",
        "def mayor():\n",
        "    print('Registro 3 : ALUMNO CON LA MAYOR EDAD\\n')\n",
        "    registro = alumnos.loc[alumnos.Edad == alumnos.Edad.max()]\n",
        "    registro = pd.DataFrame(registro)\n",
        "\n",
        "    print('Nombre : ', registro.Nombre.values[0])\n",
        "    print('Facultad: ', registro.Facultad.values[0])\n",
        "    print( 'Edad :  ', registro.Edad.values[0])\n",
        "    print('Posicion de registro:  ', registro.index[0]+1 , '\\n', )\n",
        "    \n",
        "    return registro"
      ],
      "execution_count": 13,
      "outputs": []
    },
    {
      "cell_type": "code",
      "metadata": {
        "id": "Bs2JtCPRbPdW",
        "colab_type": "code",
        "colab": {
          "base_uri": "https://localhost:8080/",
          "height": 199
        },
        "outputId": "ea3de8e6-85a7-4b51-dc14-de5a3c778723"
      },
      "source": [
        "mayor()"
      ],
      "execution_count": 14,
      "outputs": [
        {
          "output_type": "stream",
          "text": [
            "Registro 3 : ALUMNO CON LA MAYOR EDAD\n",
            "\n",
            "Nombre :  Marco\n",
            "Facultad:  mecanica\n",
            "Edad :   25\n",
            "Posicion de registro:   6 \n",
            "\n"
          ],
          "name": "stdout"
        },
        {
          "output_type": "execute_result",
          "data": {
            "text/html": [
              "<div>\n",
              "<style scoped>\n",
              "    .dataframe tbody tr th:only-of-type {\n",
              "        vertical-align: middle;\n",
              "    }\n",
              "\n",
              "    .dataframe tbody tr th {\n",
              "        vertical-align: top;\n",
              "    }\n",
              "\n",
              "    .dataframe thead th {\n",
              "        text-align: right;\n",
              "    }\n",
              "</style>\n",
              "<table border=\"1\" class=\"dataframe\">\n",
              "  <thead>\n",
              "    <tr style=\"text-align: right;\">\n",
              "      <th></th>\n",
              "      <th>Codigo</th>\n",
              "      <th>Nombre</th>\n",
              "      <th>Edad</th>\n",
              "      <th>Facultad</th>\n",
              "    </tr>\n",
              "  </thead>\n",
              "  <tbody>\n",
              "    <tr>\n",
              "      <th>5</th>\n",
              "      <td>20173457H</td>\n",
              "      <td>Marco</td>\n",
              "      <td>25</td>\n",
              "      <td>mecanica</td>\n",
              "    </tr>\n",
              "  </tbody>\n",
              "</table>\n",
              "</div>"
            ],
            "text/plain": [
              "      Codigo Nombre  Edad  Facultad\n",
              "5  20173457H  Marco    25  mecanica"
            ]
          },
          "metadata": {
            "tags": []
          },
          "execution_count": 14
        }
      ]
    },
    {
      "cell_type": "code",
      "metadata": {
        "id": "oOJcabL8O123",
        "colab_type": "code",
        "colab": {}
      },
      "source": [
        ""
      ],
      "execution_count": 8,
      "outputs": []
    }
  ]
}