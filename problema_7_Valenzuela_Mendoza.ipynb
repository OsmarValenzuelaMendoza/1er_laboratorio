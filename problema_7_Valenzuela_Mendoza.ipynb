{
  "nbformat": 4,
  "nbformat_minor": 0,
  "metadata": {
    "colab": {
      "name": "problema 7 - Valenzuela Mendoza.ipynb",
      "provenance": [],
      "authorship_tag": "ABX9TyNzdcQRzx4RpSexRvqmTtPL",
      "include_colab_link": true
    },
    "kernelspec": {
      "name": "python3",
      "display_name": "Python 3"
    }
  },
  "cells": [
    {
      "cell_type": "markdown",
      "metadata": {
        "id": "view-in-github",
        "colab_type": "text"
      },
      "source": [
        "<a href=\"https://colab.research.google.com/github/OsmarValenzuelaMendoza/1er_laboratorio/blob/master/problema_7_Valenzuela_Mendoza.ipynb\" target=\"_parent\"><img src=\"https://colab.research.google.com/assets/colab-badge.svg\" alt=\"Open In Colab\"/></a>"
      ]
    },
    {
      "cell_type": "markdown",
      "metadata": {
        "id": "JWEam-E7bPwZ",
        "colab_type": "text"
      },
      "source": [
        ""
      ]
    },
    {
      "cell_type": "code",
      "metadata": {
        "id": "3qGQ_EDKmwF4",
        "colab_type": "code",
        "colab": {}
      },
      "source": [
        "from datetime import datetime\n",
        "\n",
        "#Crear la base de datos con las columnas o atributos \n",
        "today = datetime.now()\n",
        "codigos = []\n",
        "nombres = []\n",
        "edades = []\n",
        "facultades = []\n",
        "\n",
        "\n",
        "#Primera funcion de INGRESO DE DATOS\n",
        "\n",
        "def Ingreso():\n",
        "    \n",
        "    i = 0\n",
        "    while  True :\n",
        "        print('Hora : ', today)\n",
        "        print('--- Datos de los alumnos ---')\n",
        "        codigo = str(input('Ingrese el código: '))\n",
        "        nombre = str(input('Ingrese el nombre: '))\n",
        "        edad = int(input('Ingrese la edad: '))\n",
        "        facultad = str(input('Ingrese la facultad: '))\n",
        "\n",
        "        codigos.append(codigo)\n",
        "        nombres.append(nombre)\n",
        "        edades.append(edad)\n",
        "        facultades.append(facultad)\n",
        "\n",
        "        print()\n",
        "        print('Total de alumnos ingresados: ',len(codigos))\n",
        "        print()\n",
        "\n",
        "        # El programa le preguntará constantemente si desea seguir añadiendo personas\n",
        "        seguir = input('DESEA SEGUIR INGRESANDO DATOS(S/N): ')\n",
        "        seguir = seguir.upper()\n",
        "        i = i+1\n",
        "        # Al escribir una letra diferente a 'S' o 's' el programa se cortará\n",
        "        if seguir != 'S' :\n",
        "                break"
      ],
      "execution_count": null,
      "outputs": []
    },
    {
      "cell_type": "code",
      "metadata": {
        "id": "Z2I3mscZbKM8",
        "colab_type": "code",
        "colab": {
          "base_uri": "https://localhost:8080/",
          "height": 1000
        },
        "outputId": "8feb84f3-c87b-4bdc-b5c2-50d3fbd31b30"
      },
      "source": [
        "Ingreso()"
      ],
      "execution_count": null,
      "outputs": [
        {
          "output_type": "stream",
          "text": [
            "Hora :  2020-07-13 02:58:26.719936\n",
            "--- Datos de los alumnos ---\n",
            "Ingrese el código: 20170244B\n",
            "Ingrese el nombre: OSMAR VALENZUELA\n",
            "Ingrese la edad: 20\n",
            "Ingrese la facultad: SISTEMAS\n",
            "\n",
            "Total de alumnos ingresados:  1\n",
            "\n",
            "DESEA SEGUIR INGRESANDO DATOS(S/N): S\n",
            "Hora :  2020-07-13 02:58:26.719936\n",
            "--- Datos de los alumnos ---\n",
            "Ingrese el código: 20177524C\n",
            "Ingrese el nombre: JOSE RODRIGUEZ\n",
            "Ingrese la edad: 21\n",
            "Ingrese la facultad: SISTEMAS\n",
            "\n",
            "Total de alumnos ingresados:  2\n",
            "\n",
            "DESEA SEGUIR INGRESANDO DATOS(S/N): S\n",
            "Hora :  2020-07-13 02:58:26.719936\n",
            "--- Datos de los alumnos ---\n",
            "Ingrese el código: 20172345J\n",
            "Ingrese el nombre: JEREMY\n",
            "Ingrese la edad: 23\n",
            "Ingrese la facultad: INDUSTRIAL\n",
            "\n",
            "Total de alumnos ingresados:  3\n",
            "\n",
            "DESEA SEGUIR INGRESANDO DATOS(S/N): S\n",
            "Hora :  2020-07-13 02:58:26.719936\n",
            "--- Datos de los alumnos ---\n",
            "Ingrese el código: 20173456H\n",
            "Ingrese el nombre: DAVID\n",
            "Ingrese la edad: 24\n",
            "Ingrese la facultad: MECANICA\n",
            "\n",
            "Total de alumnos ingresados:  4\n",
            "\n",
            "DESEA SEGUIR INGRESANDO DATOS(S/N): S\n",
            "Hora :  2020-07-13 02:58:26.719936\n",
            "--- Datos de los alumnos ---\n",
            "Ingrese el código: 20173412H\n",
            "Ingrese el nombre: JESUS\n",
            "Ingrese la edad: 19\n",
            "Ingrese la facultad: INDUSTRIAL\n",
            "\n",
            "Total de alumnos ingresados:  5\n",
            "\n",
            "DESEA SEGUIR INGRESANDO DATOS(S/N): S\n",
            "Hora :  2020-07-13 02:58:26.719936\n",
            "--- Datos de los alumnos ---\n",
            "Ingrese el código: 20173457H\n",
            "Ingrese el nombre: MARCO\n",
            "Ingrese la edad: 25\n",
            "Ingrese la facultad: MECANICA\n",
            "\n",
            "Total de alumnos ingresados:  6\n",
            "\n",
            "DESEA SEGUIR INGRESANDO DATOS(S/N): N\n"
          ],
          "name": "stdout"
        }
      ]
    },
    {
      "cell_type": "code",
      "metadata": {
        "id": "MRDdfshkhoYc",
        "colab_type": "code",
        "colab": {
          "base_uri": "https://localhost:8080/",
          "height": 136
        },
        "outputId": "f9814a0e-8dc7-495b-c0a6-73df19bcd16f"
      },
      "source": [
        "total = [['CODIGO', 'NOMBRE', 'EDAD', 'FACULTAD']]\n",
        "for i in range(len(codigos)):\n",
        "    m = [codigos[i], nombres[i], edades[i], facultades[i]]\n",
        "    total.append(m)"
      ],
      "execution_count": null,
      "outputs": [
        {
          "output_type": "execute_result",
          "data": {
            "text/plain": [
              "[['CODIGO', 'NOMBRE', 'EDAD', 'FACULTAD'],\n",
              " ['20170244B', 'OSMAR VALENZUELA', 20, 'SISTEMAS'],\n",
              " ['20177524C', 'JOSE RODRIGUEZ', 21, 'SISTEMAS'],\n",
              " ['20172345J', 'JEREMY', 23, 'INDUSTRIAL'],\n",
              " ['20173456H', 'DAVID', 24, 'MECANICA'],\n",
              " ['20173412H', 'JESUS', 19, 'INDUSTRIAL'],\n",
              " ['20173457H', 'MARCO', 25, 'MECANICA']]"
            ]
          },
          "metadata": {
            "tags": []
          },
          "execution_count": 3
        }
      ]
    },
    {
      "cell_type": "code",
      "metadata": {
        "id": "e532IAbomy2z",
        "colab_type": "code",
        "colab": {}
      },
      "source": [
        "#1er Reporte de los alumnos, solo mostrará el total de alumnos\n",
        "\n",
        "def display(array,mensaje):\n",
        "    print(mensaje)\n",
        "    \n",
        "    s = [[str(e) for e in row] for row in array]\n",
        "    lens = [max(map(len, col)) for col in zip(*s)]\n",
        "    fmt = '\\t'.join('{{:{}}}'.format(x) for x in lens)\n",
        "    table = [fmt.format(*row) for row in s]\n",
        "    print('\\n'.join(table))"
      ],
      "execution_count": null,
      "outputs": []
    },
    {
      "cell_type": "markdown",
      "metadata": {
        "id": "iLV3aBfINJhO",
        "colab_type": "text"
      },
      "source": [
        "# Reporte 1: Total de alumnos"
      ]
    },
    {
      "cell_type": "code",
      "metadata": {
        "id": "_6nttP6wbMnK",
        "colab_type": "code",
        "colab": {}
      },
      "source": [
        "def REPORTE_1():\n",
        "    display(total, 'REPORTE 1: TOTAL ALUMNOS REGISTRADOS\\n')"
      ],
      "execution_count": null,
      "outputs": []
    },
    {
      "cell_type": "code",
      "metadata": {
        "id": "r_vXl7ffl7ch",
        "colab_type": "code",
        "colab": {
          "base_uri": "https://localhost:8080/",
          "height": 170
        },
        "outputId": "a37b4925-ccec-4980-eca1-815b85096029"
      },
      "source": [
        "REPORTE_1()"
      ],
      "execution_count": null,
      "outputs": [
        {
          "output_type": "stream",
          "text": [
            "REPORTE 1: TOTAL ALUMNOS REGISTRADOS\n",
            "\n",
            "CODIGO   \tNOMBRE          \tEDAD\tFACULTAD  \n",
            "20170244B\tOSMAR VALENZUELA\t20  \tSISTEMAS  \n",
            "20177524C\tJOSE RODRIGUEZ  \t21  \tSISTEMAS  \n",
            "20172345J\tJEREMY          \t23  \tINDUSTRIAL\n",
            "20173456H\tDAVID           \t24  \tMECANICA  \n",
            "20173412H\tJESUS           \t19  \tINDUSTRIAL\n",
            "20173457H\tMARCO           \t25  \tMECANICA  \n"
          ],
          "name": "stdout"
        }
      ]
    },
    {
      "cell_type": "markdown",
      "metadata": {
        "id": "Ri9eLSiANO3D",
        "colab_type": "text"
      },
      "source": [
        "# Reporte 2 : Promedio de edades por facultad"
      ]
    },
    {
      "cell_type": "code",
      "metadata": {
        "id": "iIatAjekl7UE",
        "colab_type": "code",
        "colab": {}
      },
      "source": [
        "def REPORTE_2():\n",
        "    def unique(list_):  \n",
        "        list_set = set(list_)     \n",
        "        unique_list = (list(list_set)) \n",
        "        return unique_list\n",
        "\n",
        "    facultad_list = unique(facultades)\n",
        "\n",
        "    indices_total = []\n",
        "\n",
        "    #Encontrar los indices por facultad\n",
        "    \n",
        "    for facultad in facultad_list:\n",
        "        indices = []\n",
        "        i=0\n",
        "        for alumno in total:\n",
        "            if alumno[3] == facultad:\n",
        "                indices.append(i)\n",
        "            i = i+1\n",
        "        indices_total.append(indices)\n",
        "\n",
        "    # Conociendo los indices por facultad, encontramos el promedio\n",
        "    # por facultad\n",
        "\n",
        "    promedio_facultad = []   \n",
        "    for i in indices_total:\n",
        "        promedio = []\n",
        "        for j in i :\n",
        "            promedio.append(edades[int(j-1)])\n",
        "        promedio_facultad.append(sum(promedio)/float(len(promedio)))\n",
        "\n",
        "\n",
        "    display_promedio = [['FACULTAD', 'EDAD']]\n",
        "    for i in range(len(promedio_facultad)):\n",
        "        m = [facultad_list[i], promedio_facultad[i]]\n",
        "        display_promedio.append(m)\n",
        "\n",
        "\n",
        "    display(display_promedio,'REPORTE 2: PROMEDIO DE EDADES POR FACULTAD\\n')"
      ],
      "execution_count": null,
      "outputs": []
    },
    {
      "cell_type": "code",
      "metadata": {
        "id": "ZOiClil1oevS",
        "colab_type": "code",
        "colab": {
          "base_uri": "https://localhost:8080/",
          "height": 119
        },
        "outputId": "e5da7e59-5ace-42b5-998b-f3b274bb062f"
      },
      "source": [
        "REPORTE_2()"
      ],
      "execution_count": null,
      "outputs": [
        {
          "output_type": "stream",
          "text": [
            "REPORTE 2: PROMEDIO DE EDADES POR FACULTAD\n",
            "\n",
            "FACULTAD  \tEDAD\n",
            "MECANICA  \t24.5\n",
            "INDUSTRIAL\t21.0\n",
            "SISTEMAS  \t20.5\n"
          ],
          "name": "stdout"
        }
      ]
    },
    {
      "cell_type": "markdown",
      "metadata": {
        "id": "U2oQhlysNTJn",
        "colab_type": "text"
      },
      "source": [
        "# Reporte 3: Datos del alumno con mayor edad"
      ]
    },
    {
      "cell_type": "code",
      "metadata": {
        "id": "Ssdn3jEDzV0r",
        "colab_type": "code",
        "colab": {}
      },
      "source": [
        "def REPORTE_3():\n",
        "    \n",
        "    for i,edad  in enumerate(edades):\n",
        "            edad = int(edad)\n",
        "            if edad == maxi:\n",
        "                indice = i\n",
        "    print('Registro 3 : ALUMNO CON LA MAYOR EDAD\\n')\n",
        "    print('Codigo : ', codigos[indice])\n",
        "    print('Nombre : ', nombres[indice])\n",
        "    print('Edad :  ', edades[indice])\n",
        "    print('Facultad: ', facultades[indice])\n",
        "    print('Posicion de registro:  ', indice+1 )"
      ],
      "execution_count": null,
      "outputs": []
    },
    {
      "cell_type": "code",
      "metadata": {
        "id": "jwQ6GzVG1pxr",
        "colab_type": "code",
        "colab": {
          "base_uri": "https://localhost:8080/",
          "height": 136
        },
        "outputId": "95d2f8f4-148f-4014-8726-688220dbc605"
      },
      "source": [
        "REPORTE_3()"
      ],
      "execution_count": null,
      "outputs": [
        {
          "output_type": "stream",
          "text": [
            "Registro 3 : ALUMNO CON LA MAYOR EDAD\n",
            "\n",
            "Codigo :  20173457H\n",
            "Nombre :  MARCO\n",
            "Edad :   25\n",
            "Facultad:  MECANICA\n",
            "Posicion de registro:   6\n"
          ],
          "name": "stdout"
        }
      ]
    },
    {
      "cell_type": "code",
      "metadata": {
        "id": "qFnfFF1RH9Md",
        "colab_type": "code",
        "colab": {}
      },
      "source": [
        ""
      ],
      "execution_count": null,
      "outputs": []
    }
  ]
}